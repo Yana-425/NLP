{
 "cells": [
  {
   "cell_type": "markdown",
   "metadata": {},
   "source": [
    "## Assignment-03 First Step of Machine Learning: Model and Evaluation"
   ]
  },
  {
   "cell_type": "markdown",
   "metadata": {},
   "source": [
    "同学们，今天我们的学习了基本的机器学习概念，相比你已经对机器学习的这些方法有一个基本的认识了。值得说明的是，机器学习不仅仅是一系列方法，更重要的是一种思维体系，即：依据以往的、现有的数据，构建某种方法来解决未见过的问题。而且决策树，贝叶斯只是实现这个目标的一个方法，包括之后的神经网络。很有可能有一天，神经网络也会被淘汰，但是重要的是我们要理解机器学习的目标，就是尽可能的自动化解决未知的问题。"
   ]
  },
  {
   "cell_type": "markdown",
   "metadata": {},
   "source": [
    "![](https://timgsa.baidu.com/timg?image&quality=80&size=b9999_10000&sec=1571556399207&di=4a97dc15ad08dd49d3748d1edf6109b3&imgtype=0&src=http%3A%2F%2Fc.hiphotos.baidu.com%2Fzhidao%2Fwh%3D450%2C600%2Fsign%3Dae742c6aedcd7b89e93932873a146e91%2F5d6034a85edf8db1b16050c40223dd54574e74c7.jpg)"
   ]
  },
  {
   "cell_type": "markdown",
   "metadata": {},
   "source": [
    "## Part-1 Programming Review 编程回顾"
   ]
  },
  {
   "cell_type": "markdown",
   "metadata": {},
   "source": [
    "#### 1. Re-code the Linear-Regression Model using scikit-learning(10 points)"
   ]
  },
  {
   "cell_type": "markdown",
   "metadata": {},
   "source": [
    "<评阅点>： \n",
    "> + 是否完成线性回归模型 (4')\n",
    "+ 能够进行预测新数据(3')\n",
    "+ 能够进行可视化操作(3')"
   ]
  },
  {
   "cell_type": "code",
   "execution_count": 174,
   "metadata": {},
   "outputs": [
    {
     "name": "stdout",
     "output_type": "stream",
     "text": [
      "Requirement already satisfied: sklearn in f:\\anaconda\\lib\\site-packages (0.0)\n",
      "Requirement already satisfied: scikit-learn in f:\\anaconda\\lib\\site-packages (from sklearn) (0.21.3)\n",
      "Requirement already satisfied: scipy>=0.17.0 in f:\\anaconda\\lib\\site-packages (from scikit-learn->sklearn) (1.3.1)\n",
      "Requirement already satisfied: joblib>=0.11 in f:\\anaconda\\lib\\site-packages (from scikit-learn->sklearn) (0.13.2)\n",
      "Requirement already satisfied: numpy>=1.11.0 in f:\\anaconda\\lib\\site-packages (from scikit-learn->sklearn) (1.16.5)\n"
     ]
    }
   ],
   "source": [
    "!pip install sklearn"
   ]
  },
  {
   "cell_type": "code",
   "execution_count": 175,
   "metadata": {},
   "outputs": [],
   "source": [
    "%matplotlib inline"
   ]
  },
  {
   "cell_type": "markdown",
   "metadata": {},
   "source": [
    "##### **(1) 生成数据**"
   ]
  },
  {
   "cell_type": "code",
   "execution_count": 176,
   "metadata": {},
   "outputs": [],
   "source": [
    "import numpy as np"
   ]
  },
  {
   "cell_type": "code",
   "execution_count": 177,
   "metadata": {},
   "outputs": [],
   "source": [
    "random_data = np.random.random((20, 2))"
   ]
  },
  {
   "cell_type": "code",
   "execution_count": 178,
   "metadata": {},
   "outputs": [
    {
     "data": {
      "text/plain": [
       "array([[0.15695203, 0.99317009],\n",
       "       [0.67394119, 0.82904306],\n",
       "       [0.7447616 , 0.39620057],\n",
       "       [0.69796553, 0.88073442],\n",
       "       [0.07818826, 0.1524215 ],\n",
       "       [0.82894514, 0.32392741],\n",
       "       [0.24866651, 0.581326  ],\n",
       "       [0.22491619, 0.50475342],\n",
       "       [0.74686116, 0.79824761],\n",
       "       [0.90253006, 0.67635736],\n",
       "       [0.60457012, 0.93564882],\n",
       "       [0.75790152, 0.29917142],\n",
       "       [0.12868986, 0.75656134],\n",
       "       [0.90212579, 0.63542276],\n",
       "       [0.15763148, 0.68833085],\n",
       "       [0.42012714, 0.22290371],\n",
       "       [0.11291235, 0.52463538],\n",
       "       [0.08918838, 0.10627628],\n",
       "       [0.13892107, 0.15340528],\n",
       "       [0.90279692, 0.99819801]])"
      ]
     },
     "execution_count": 178,
     "metadata": {},
     "output_type": "execute_result"
    }
   ],
   "source": [
    "random_data"
   ]
  },
  {
   "cell_type": "code",
   "execution_count": 179,
   "metadata": {},
   "outputs": [],
   "source": [
    "import matplotlib.pyplot as plt"
   ]
  },
  {
   "cell_type": "code",
   "execution_count": 180,
   "metadata": {},
   "outputs": [],
   "source": [
    "X = random_data[:, 0]  # 数组的前一位数"
   ]
  },
  {
   "cell_type": "code",
   "execution_count": 181,
   "metadata": {},
   "outputs": [
    {
     "data": {
      "text/plain": [
       "array([0.15695203, 0.67394119, 0.7447616 , 0.69796553, 0.07818826,\n",
       "       0.82894514, 0.24866651, 0.22491619, 0.74686116, 0.90253006,\n",
       "       0.60457012, 0.75790152, 0.12868986, 0.90212579, 0.15763148,\n",
       "       0.42012714, 0.11291235, 0.08918838, 0.13892107, 0.90279692])"
      ]
     },
     "execution_count": 181,
     "metadata": {},
     "output_type": "execute_result"
    }
   ],
   "source": [
    "X"
   ]
  },
  {
   "cell_type": "code",
   "execution_count": 182,
   "metadata": {},
   "outputs": [],
   "source": [
    "y = random_data[:, 1]  # 数组的后一位数"
   ]
  },
  {
   "cell_type": "code",
   "execution_count": 183,
   "metadata": {},
   "outputs": [
    {
     "data": {
      "text/plain": [
       "array([0.99317009, 0.82904306, 0.39620057, 0.88073442, 0.1524215 ,\n",
       "       0.32392741, 0.581326  , 0.50475342, 0.79824761, 0.67635736,\n",
       "       0.93564882, 0.29917142, 0.75656134, 0.63542276, 0.68833085,\n",
       "       0.22290371, 0.52463538, 0.10627628, 0.15340528, 0.99819801])"
      ]
     },
     "execution_count": 183,
     "metadata": {},
     "output_type": "execute_result"
    }
   ],
   "source": [
    "y"
   ]
  },
  {
   "cell_type": "code",
   "execution_count": 184,
   "metadata": {},
   "outputs": [],
   "source": [
    "import random"
   ]
  },
  {
   "cell_type": "code",
   "execution_count": 185,
   "metadata": {},
   "outputs": [],
   "source": [
    "def assmuing_function(x):\n",
    "    # 在我们的日常生活中是常见的\n",
    "    # 体重 -> 高血压的概率\n",
    "    # 收入 -> 买阿玛尼的概率\n",
    "    # 其实都是一种潜在的函数关系 + 一个随机变化\n",
    "    return 13.4 * x + 5 + random.randint(-5, 5)"
   ]
  },
  {
   "cell_type": "code",
   "execution_count": 186,
   "metadata": {},
   "outputs": [],
   "source": [
    "y = [assmuing_function(x) for x in X]"
   ]
  },
  {
   "cell_type": "code",
   "execution_count": 187,
   "metadata": {},
   "outputs": [
    {
     "data": {
      "text/plain": [
       "<matplotlib.collections.PathCollection at 0x18303dce648>"
      ]
     },
     "execution_count": 187,
     "metadata": {},
     "output_type": "execute_result"
    },
    {
     "data": {
      "image/png": "[encoded data removed]",
      "text/plain": [
       "<Figure size 432x288 with 1 Axes>"
      ]
     },
     "metadata": {
      "needs_background": "light"
     },
     "output_type": "display_data"
    }
   ],
   "source": [
    "plt.scatter(X, y)"
   ]
  },
  {
   "cell_type": "code",
   "execution_count": 188,
   "metadata": {},
   "outputs": [],
   "source": [
    "y = np.array(y)"
   ]
  },
  {
   "cell_type": "code",
   "execution_count": 189,
   "metadata": {},
   "outputs": [
    {
     "data": {
      "text/plain": [
       "array([ 4.10315725, 14.03081198, 10.9798055 , 18.35273815,  6.04772265,\n",
       "       21.1078649 ,  4.33213127,  5.01387692, 18.00793951, 12.09390276,\n",
       "       13.10123964, 13.15588039,  6.72444406, 15.0884856 ,  7.11226186,\n",
       "       15.62970369,  6.51302544, 11.19512431,  8.86154232, 15.09747875])"
      ]
     },
     "execution_count": 189,
     "metadata": {},
     "output_type": "execute_result"
    }
   ],
   "source": [
    "y"
   ]
  },
  {
   "cell_type": "markdown",
   "metadata": {},
   "source": [
    "##### **（2）使用sklearn进行regression及可视化**"
   ]
  },
  {
   "cell_type": "code",
   "execution_count": 190,
   "metadata": {},
   "outputs": [],
   "source": [
    "from sklearn.linear_model import LinearRegression"
   ]
  },
  {
   "cell_type": "code",
   "execution_count": 191,
   "metadata": {},
   "outputs": [],
   "source": [
    "### A.reshape（a,b）\n",
    "# 表示把A拆成a行b列的数组\n",
    "# Reshape your data either using array.reshape(-1, 1) if your data has a single feature or array.reshape(1, -1) if it contains a single sample."
   ]
  },
  {
   "cell_type": "code",
   "execution_count": 192,
   "metadata": {},
   "outputs": [
    {
     "data": {
      "text/plain": [
       "array([[0.15695203],\n",
       "       [0.67394119],\n",
       "       [0.7447616 ],\n",
       "       [0.69796553],\n",
       "       [0.07818826],\n",
       "       [0.82894514],\n",
       "       [0.24866651],\n",
       "       [0.22491619],\n",
       "       [0.74686116],\n",
       "       [0.90253006],\n",
       "       [0.60457012],\n",
       "       [0.75790152],\n",
       "       [0.12868986],\n",
       "       [0.90212579],\n",
       "       [0.15763148],\n",
       "       [0.42012714],\n",
       "       [0.11291235],\n",
       "       [0.08918838],\n",
       "       [0.13892107],\n",
       "       [0.90279692]])"
      ]
     },
     "execution_count": 192,
     "metadata": {},
     "output_type": "execute_result"
    }
   ],
   "source": [
    "X.reshape(-1, 1)"
   ]
  },
  {
   "cell_type": "code",
   "execution_count": 193,
   "metadata": {},
   "outputs": [],
   "source": [
    "reg = LinearRegression().fit(X.reshape(-1, 1), y)"
   ]
  },
  {
   "cell_type": "code",
   "execution_count": 194,
   "metadata": {},
   "outputs": [
    {
     "data": {
      "text/plain": [
       "0.6141337805006132"
      ]
     },
     "execution_count": 194,
     "metadata": {},
     "output_type": "execute_result"
    }
   ],
   "source": [
    "reg.score(X.reshape(-1, 1), y)"
   ]
  },
  {
   "cell_type": "code",
   "execution_count": 195,
   "metadata": {},
   "outputs": [],
   "source": [
    "def f(x): \n",
    "    return reg.coef_ * x + reg.intercept_"
   ]
  },
  {
   "cell_type": "code",
   "execution_count": 196,
   "metadata": {},
   "outputs": [
    {
     "data": {
      "text/plain": [
       "[<matplotlib.lines.Line2D at 0x18303dfc848>]"
      ]
     },
     "execution_count": 196,
     "metadata": {},
     "output_type": "execute_result"
    },
    {
     "data": {
      "image/png": "[encoded data removed]",
      "text/plain": [
       "<Figure size 432x288 with 1 Axes>"
      ]
     },
     "metadata": {
      "needs_background": "light"
     },
     "output_type": "display_data"
    }
   ],
   "source": [
    "plt.scatter(X, y)\n",
    "plt.plot(X, f(X), color='red')"
   ]
  },
  {
   "cell_type": "markdown",
   "metadata": {},
   "source": [
    "##### **（3）预测新的数据**"
   ]
  },
  {
   "cell_type": "code",
   "execution_count": 197,
   "metadata": {},
   "outputs": [
    {
     "data": {
      "text/plain": [
       "array([9.17104706])"
      ]
     },
     "execution_count": 197,
     "metadata": {},
     "output_type": "execute_result"
    }
   ],
   "source": [
    "x_new = 0.3\n",
    "x_new = np.array(x_new)\n",
    "reg.predict(x_new.reshape(-1,1))"
   ]
  },
  {
   "cell_type": "markdown",
   "metadata": {},
   "source": [
    "#### 2. Complete the unfinished KNN Model using pure python to solve the previous Line-Regression problem. (8 points)"
   ]
  },
  {
   "cell_type": "markdown",
   "metadata": {},
   "source": [
    "<评阅点>:\n",
    "> + 是否完成了KNN模型 (4')\n",
    "+ 是否能够预测新的数据 (4')"
   ]
  },
  {
   "cell_type": "markdown",
   "metadata": {},
   "source": [
    "##### **(1) 使用pure Python完成KNN模型**"
   ]
  },
  {
   "cell_type": "code",
   "execution_count": 198,
   "metadata": {},
   "outputs": [],
   "source": [
    "def model(X, y):\n",
    "    # 直接存储 X,y 即可\n",
    "    return [(Xi, yi) for Xi, yi in zip(X, y)]"
   ]
  },
  {
   "cell_type": "code",
   "execution_count": 199,
   "metadata": {},
   "outputs": [],
   "source": [
    "from scipy.spatial.distance import cosine"
   ]
  },
  {
   "cell_type": "code",
   "execution_count": 200,
   "metadata": {},
   "outputs": [],
   "source": [
    "def distance(x1, x2):\n",
    "    #return cosine(x1, x2)\n",
    "    #二维数据用x之间的绝对值表示distance比较好\n",
    "    return abs(x1-x2)"
   ]
  },
  {
   "cell_type": "code",
   "execution_count": 201,
   "metadata": {},
   "outputs": [],
   "source": [
    "def predict(x, k=5):\n",
    "    # 在predicate的时候，需要做大量的计算\n",
    "    # 对model(X, y)排序，排序依据是distance(xi[0], x)，返回的还是(x,y),xi[0]表示取出[(x1,y1),(x2,y2),...]中的x\n",
    "    most_similars = sorted(model(X, y), key=lambda xi: distance(xi[0], x))[:k]\n",
    "    \n",
    "    y_hats = [_y for x, _y in most_similars]  \n",
    "    \n",
    "    print(most_similars)\n",
    "    \n",
    "    return np.mean(y_hats)\n",
    "    # -> regression: numerical -> most_similars (y)\n",
    "    # -> classification: categorical -> most_similar (y)\n",
    "    \n",
    "    # 已经获得了最相似的数据集\n",
    "    # 然后呢，Counter() -> most_common() -> 就可以获得出现最多的这个y了"
   ]
  },
  {
   "cell_type": "code",
   "execution_count": 202,
   "metadata": {},
   "outputs": [
    {
     "data": {
      "text/plain": [
       "(array([0.15695203, 0.67394119, 0.7447616 , 0.69796553, 0.07818826,\n",
       "        0.82894514, 0.24866651, 0.22491619, 0.74686116, 0.90253006,\n",
       "        0.60457012, 0.75790152, 0.12868986, 0.90212579, 0.15763148,\n",
       "        0.42012714, 0.11291235, 0.08918838, 0.13892107, 0.90279692]),\n",
       " array([ 4.10315725, 14.03081198, 10.9798055 , 18.35273815,  6.04772265,\n",
       "        21.1078649 ,  4.33213127,  5.01387692, 18.00793951, 12.09390276,\n",
       "        13.10123964, 13.15588039,  6.72444406, 15.0884856 ,  7.11226186,\n",
       "        15.62970369,  6.51302544, 11.19512431,  8.86154232, 15.09747875]))"
      ]
     },
     "execution_count": 202,
     "metadata": {},
     "output_type": "execute_result"
    }
   ],
   "source": [
    "X, y"
   ]
  },
  {
   "cell_type": "code",
   "execution_count": 203,
   "metadata": {},
   "outputs": [],
   "source": [
    "myself_knn = model(X, y)"
   ]
  },
  {
   "cell_type": "markdown",
   "metadata": {},
   "source": [
    "##### **（2) 预测新的数据**"
   ]
  },
  {
   "cell_type": "code",
   "execution_count": 204,
   "metadata": {},
   "outputs": [
    {
     "data": {
      "text/plain": [
       "<matplotlib.collections.PathCollection at 0x18303e12d08>"
      ]
     },
     "execution_count": 204,
     "metadata": {},
     "output_type": "execute_result"
    },
    {
     "data": {
      "image/png": "[encoded data removed]",
      "text/plain": [
       "<Figure size 432x288 with 1 Axes>"
      ]
     },
     "metadata": {
      "needs_background": "light"
     },
     "output_type": "display_data"
    }
   ],
   "source": [
    "plt.scatter(X, y)"
   ]
  },
  {
   "cell_type": "code",
   "execution_count": 205,
   "metadata": {},
   "outputs": [
    {
     "name": "stdout",
     "output_type": "stream",
     "text": [
      "[(0.24866651277435803, 4.332131271176397), (0.224916187774983, 5.013876916184772), (0.4201271409490046, 15.629703688716662), (0.15763148204545574, 7.112261859409108), (0.15695203336124453, 4.103157247040677)]\n"
     ]
    },
    {
     "data": {
      "text/plain": [
       "7.238226196505524"
      ]
     },
     "execution_count": 205,
     "metadata": {},
     "output_type": "execute_result"
    }
   ],
   "source": [
    "predict(0.3)"
   ]
  },
  {
   "cell_type": "markdown",
   "metadata": {},
   "source": [
    "#### 3. Re-code the Decision Tree, which could sort the features by salience. (12 points)"
   ]
  },
  {
   "cell_type": "markdown",
   "metadata": {},
   "source": [
    "<评阅点>\n",
    "> + 是否实现了信息熵 (1' )\n",
    "+ 是否实现了最优先特征点的选择(5')\n",
    "+ 是否实现了持续的特征选则(6')"
   ]
  },
  {
   "cell_type": "markdown",
   "metadata": {},
   "source": [
    "##### **（1）实现信息熵**\n",
    "$$ Entropy = -\\sum_i^n Pr(x_i) log(Pr(x_i)) $$"
   ]
  },
  {
   "cell_type": "code",
   "execution_count": 206,
   "metadata": {},
   "outputs": [],
   "source": [
    "from collections import Counter"
   ]
  },
  {
   "cell_type": "code",
   "execution_count": 207,
   "metadata": {},
   "outputs": [
    {
     "name": "stdout",
     "output_type": "stream",
     "text": [
      "Requirement already satisfied: icecream in f:\\anaconda\\lib\\site-packages (2.0.0)\n",
      "Requirement already satisfied: executing>=0.3.1 in f:\\anaconda\\lib\\site-packages (from icecream) (0.4.1)\n",
      "Requirement already satisfied: pygments>=2.2.0 in f:\\anaconda\\lib\\site-packages (from icecream) (2.4.2)\n",
      "Requirement already satisfied: asttokens>=2.0.1 in f:\\anaconda\\lib\\site-packages (from icecream) (2.0.3)\n",
      "Requirement already satisfied: colorama>=0.3.9 in f:\\anaconda\\lib\\site-packages (from icecream) (0.4.1)\n",
      "Requirement already satisfied: six in f:\\anaconda\\lib\\site-packages (from asttokens>=2.0.1->icecream) (1.12.0)\n"
     ]
    }
   ],
   "source": [
    "!pip install icecream"
   ]
  },
  {
   "cell_type": "code",
   "execution_count": 208,
   "metadata": {},
   "outputs": [],
   "source": [
    "from icecream import ic"
   ]
  },
  {
   "cell_type": "code",
   "execution_count": 209,
   "metadata": {},
   "outputs": [],
   "source": [
    "def entropy(elements):\n",
    "    '''群体的混乱程度'''\n",
    "    counter = Counter(elements)\n",
    "    probs = [counter[c] / len(elements) for c in set(elements)]\n",
    "    ic(probs)\n",
    "    return - sum(p * np.log(p) for p in probs)"
   ]
  },
  {
   "cell_type": "code",
   "execution_count": 210,
   "metadata": {},
   "outputs": [
    {
     "name": "stderr",
     "output_type": "stream",
     "text": [
      "ic| probs: [1.0]\n"
     ]
    },
    {
     "data": {
      "text/plain": [
       "-0.0"
      ]
     },
     "execution_count": 210,
     "metadata": {},
     "output_type": "execute_result"
    }
   ],
   "source": [
    "entropy([1, 1, 1, 1])"
   ]
  },
  {
   "cell_type": "code",
   "execution_count": 211,
   "metadata": {},
   "outputs": [
    {
     "name": "stderr",
     "output_type": "stream",
     "text": [
      "ic| probs: [0.25, 0.75]\n"
     ]
    },
    {
     "data": {
      "text/plain": [
       "0.5623351446188083"
      ]
     },
     "execution_count": 211,
     "metadata": {},
     "output_type": "execute_result"
    }
   ],
   "source": [
    "entropy([1, 1, 1, 0])"
   ]
  },
  {
   "cell_type": "code",
   "execution_count": 212,
   "metadata": {},
   "outputs": [
    {
     "name": "stderr",
     "output_type": "stream",
     "text": [
      "ic| probs: [0.25, 0.5, 0.25]\n"
     ]
    },
    {
     "data": {
      "text/plain": [
       "1.0397207708399179"
      ]
     },
     "execution_count": 212,
     "metadata": {},
     "output_type": "execute_result"
    }
   ],
   "source": [
    "entropy([2, 3, 3, 4])"
   ]
  },
  {
   "cell_type": "code",
   "execution_count": 213,
   "metadata": {},
   "outputs": [
    {
     "name": "stderr",
     "output_type": "stream",
     "text": [
      "ic| probs: [0.25, 0.25, 0.25, 0.25]\n",
      "ic| Error: Failed to access the underlying source code for analysis. Was ic() invoked in an interpreter (e.g. python -i), a frozen application (e.g. packaged with PyInstaller), or did the underlying source code change during execution?\n"
     ]
    },
    {
     "data": {
      "text/plain": [
       "1.3862943611198906"
      ]
     },
     "execution_count": 213,
     "metadata": {},
     "output_type": "execute_result"
    }
   ],
   "source": [
    "ic(entropy([1, 2, 3, 4]))"
   ]
  },
  {
   "cell_type": "markdown",
   "metadata": {},
   "source": [
    "##### **(2) 生成数据**"
   ]
  },
  {
   "cell_type": "code",
   "execution_count": 214,
   "metadata": {},
   "outputs": [],
   "source": [
    "mock_data = {\n",
    "    'gender':['F', 'F', 'F', 'F', 'M', 'M', 'M'],\n",
    "    'income': ['+10', '-10', '+10', '+10', '+10', '+10', '-10'],\n",
    "    'family_number': [1, 1, 2, 1, 1, 1, 2],\n",
    "   # 'pet': [1, 1, 1, 0, 0, 0, 1],\n",
    "    'bought': [1, 1, 1, 0, 0, 0, 1],\n",
    "}"
   ]
  },
  {
   "cell_type": "code",
   "execution_count": 215,
   "metadata": {},
   "outputs": [],
   "source": [
    "import pandas as pd"
   ]
  },
  {
   "cell_type": "code",
   "execution_count": 216,
   "metadata": {},
   "outputs": [],
   "source": [
    "dataset = pd.DataFrame.from_dict(mock_data)"
   ]
  },
  {
   "cell_type": "code",
   "execution_count": 217,
   "metadata": {},
   "outputs": [
    {
     "data": {
      "text/html": [
       "<div>\n",
       "<style scoped>\n",
       "    .dataframe tbody tr th:only-of-type {\n",
       "        vertical-align: middle;\n",
       "    }\n",
       "\n",
       "    .dataframe tbody tr th {\n",
       "        vertical-align: top;\n",
       "    }\n",
       "\n",
       "    .dataframe thead th {\n",
       "        text-align: right;\n",
       "    }\n",
       "</style>\n",
       "<table border=\"1\" class=\"dataframe\">\n",
       "  <thead>\n",
       "    <tr style=\"text-align: right;\">\n",
       "      <th></th>\n",
       "      <th>gender</th>\n",
       "      <th>income</th>\n",
       "      <th>family_number</th>\n",
       "      <th>bought</th>\n",
       "    </tr>\n",
       "  </thead>\n",
       "  <tbody>\n",
       "    <tr>\n",
       "      <td>0</td>\n",
       "      <td>F</td>\n",
       "      <td>+10</td>\n",
       "      <td>1</td>\n",
       "      <td>1</td>\n",
       "    </tr>\n",
       "    <tr>\n",
       "      <td>1</td>\n",
       "      <td>F</td>\n",
       "      <td>-10</td>\n",
       "      <td>1</td>\n",
       "      <td>1</td>\n",
       "    </tr>\n",
       "    <tr>\n",
       "      <td>2</td>\n",
       "      <td>F</td>\n",
       "      <td>+10</td>\n",
       "      <td>2</td>\n",
       "      <td>1</td>\n",
       "    </tr>\n",
       "    <tr>\n",
       "      <td>3</td>\n",
       "      <td>F</td>\n",
       "      <td>+10</td>\n",
       "      <td>1</td>\n",
       "      <td>0</td>\n",
       "    </tr>\n",
       "    <tr>\n",
       "      <td>4</td>\n",
       "      <td>M</td>\n",
       "      <td>+10</td>\n",
       "      <td>1</td>\n",
       "      <td>0</td>\n",
       "    </tr>\n",
       "    <tr>\n",
       "      <td>5</td>\n",
       "      <td>M</td>\n",
       "      <td>+10</td>\n",
       "      <td>1</td>\n",
       "      <td>0</td>\n",
       "    </tr>\n",
       "    <tr>\n",
       "      <td>6</td>\n",
       "      <td>M</td>\n",
       "      <td>-10</td>\n",
       "      <td>2</td>\n",
       "      <td>1</td>\n",
       "    </tr>\n",
       "  </tbody>\n",
       "</table>\n",
       "</div>"
      ],
      "text/plain": [
       "  gender income  family_number  bought\n",
       "0      F    +10              1       1\n",
       "1      F    -10              1       1\n",
       "2      F    +10              2       1\n",
       "3      F    +10              1       0\n",
       "4      M    +10              1       0\n",
       "5      M    +10              1       0\n",
       "6      M    -10              2       1"
      ]
     },
     "execution_count": 217,
     "metadata": {},
     "output_type": "execute_result"
    }
   ],
   "source": [
    "dataset"
   ]
  },
  {
   "cell_type": "markdown",
   "metadata": {},
   "source": [
    "##### **（3）决策树模型**"
   ]
  },
  {
   "cell_type": "markdown",
   "metadata": {},
   "source": [
    "**思路：**\n",
    "+ 找到第一个$salient$ $feature$\n",
    "+ 根据第一个$salient$ $feature$切割数据集，得到分数据集\n",
    "+ 对每个分数据集重复上面两个步骤，直到没有$feature$可以分割\n",
    "\n",
    "**需要注意的地方**\n",
    "+ 用到了函数递归\n",
    "+ 注意函数何时跳出递归（即$base$的情况）\n",
    "+ $base$和$base$情况下分别如何设定返回值\n",
    "+ 分类结果是怎样以字典形式保存的"
   ]
  },
  {
   "cell_type": "code",
   "execution_count": 218,
   "metadata": {},
   "outputs": [
    {
     "data": {
      "text/plain": [
       "{'family_number', 'gender', 'income'}"
      ]
     },
     "execution_count": 218,
     "metadata": {},
     "output_type": "execute_result"
    }
   ],
   "source": [
    "set(dataset.columns.tolist()) - {'bought'}"
   ]
  },
  {
   "cell_type": "code",
   "execution_count": 219,
   "metadata": {},
   "outputs": [],
   "source": [
    "def find_the_optimal_spilter(training_data: pd.DataFrame, target: str) -> str:\n",
    "    x_fields = set(training_data.columns.tolist()) - {target}\n",
    "    \n",
    "    spliter = None\n",
    "    min_entropy = float('inf')\n",
    "    \n",
    "    for f in x_fields:\n",
    "        ic(f)\n",
    "        values = set(training_data[f])\n",
    "        ic(values)\n",
    "        for v in values:\n",
    "            sub_spliter_1 = training_data[training_data[f] == v][target].tolist()\n",
    "            #ic(sub_split_1)\n",
    "            # split by the current feature and one value\n",
    "            \n",
    "            entropy_1 = entropy(sub_spliter_1)\n",
    "            #ic(entropy_1)\n",
    "            \n",
    "            sub_spliter_2 = training_data[training_data[f] != v][target].tolist()\n",
    "            #ic(sub_split_2)\n",
    "            \n",
    "            entropy_2 = entropy(sub_spliter_2)\n",
    "            #ic(entropy_2)\n",
    "            \n",
    "            entropy_v = entropy_1 + entropy_2\n",
    "            #ic(entropy_v)\n",
    "            \n",
    "            if entropy_v <= min_entropy:\n",
    "                min_entropy = entropy_v\n",
    "                spliter = (f, v)\n",
    "    \n",
    "    print('spliter is: {}'.format(spliter))\n",
    "    print('the min entropy is: {}'.format(min_entropy))\n",
    "    \n",
    "    return spliter\n",
    "    "
   ]
  },
  {
   "cell_type": "code",
   "execution_count": 220,
   "metadata": {},
   "outputs": [],
   "source": [
    "def createTree(training_data,target):\n",
    "    x_field = set(training_data.columns.tolist()) - {target}\n",
    "    # 如果x_field为空，那么则表示已经遍历了所有的分类变量，也就是到了最后一层，此时返回target的值\n",
    "    if not x_field:\n",
    "        return list(training_data[target])[0]\n",
    "    # find the first sailent\n",
    "    bestFeature = find_the_optimal_spilter(training_data,target)[0]\n",
    "    # 分类结果以字典形式保存\n",
    "    myTree={bestFeature:{}}\n",
    "    # split the dataset\n",
    "    values = set(training_data[bestFeature])\n",
    "    for value in values:\n",
    "        subDataSet = splitDataSet(training_data,bestFeature,value)\n",
    "        myTree[bestFeature][value]=createTree(subDataSet,target)\n",
    "    return myTree"
   ]
  },
  {
   "cell_type": "code",
   "execution_count": 221,
   "metadata": {},
   "outputs": [],
   "source": [
    "def splitDataSet(formal_data,feature_splited_by,value_splited_by):\n",
    "    '''\n",
    "    formal_data：需要被分割的数据集\n",
    "    feature_splited_by：分割数据集所需要的feature\n",
    "    '''\n",
    "    sub_dataframe = formal_data[formal_data[feature_splited_by] == value_splited_by].drop(feature_splited_by,axis=1)\n",
    "    return sub_dataframe\n",
    "    # 先获得feature_splited_by的所有unique值\n",
    "    #values = set(formal_data[feature_splited_by])\n",
    "    #for unique_value in values:"
   ]
  },
  {
   "cell_type": "code",
   "execution_count": 222,
   "metadata": {},
   "outputs": [
    {
     "name": "stderr",
     "output_type": "stream",
     "text": [
      "ic| f: 'income'\n",
      "ic| values: {'+10', '-10'}\n",
      "ic| probs: [0.6, 0.4]\n",
      "ic| probs: [1.0]\n",
      "ic| probs: [1.0]\n",
      "ic| probs: [0.6, 0.4]\n",
      "ic| f: 'gender'\n",
      "ic| values: {'F', 'M'}\n",
      "ic| probs: [0.25, 0.75]\n",
      "ic| probs: [0.6666666666666666, 0.3333333333333333]\n",
      "ic| probs: [0.6666666666666666, 0.3333333333333333]\n",
      "ic| probs: [0.25, 0.75]\n",
      "ic| f: 'family_number'\n",
      "ic| values: {1, 2}\n",
      "ic| probs: [0.6, 0.4]\n",
      "ic| probs: [1.0]\n",
      "ic| probs: [1.0]\n",
      "ic| probs: [0.6, 0.4]\n"
     ]
    },
    {
     "name": "stdout",
     "output_type": "stream",
     "text": [
      "spliter is: ('family_number', 2)\n",
      "the min entropy is: 0.6730116670092565\n"
     ]
    },
    {
     "data": {
      "text/plain": [
       "('family_number', 2)"
      ]
     },
     "execution_count": 222,
     "metadata": {},
     "output_type": "execute_result"
    }
   ],
   "source": [
    "find_the_optimal_spilter(dataset, 'bought')"
   ]
  },
  {
   "cell_type": "code",
   "execution_count": 223,
   "metadata": {},
   "outputs": [
    {
     "name": "stderr",
     "output_type": "stream",
     "text": [
      "ic| f: 'income'\n",
      "ic| values: {'+10', '-10'}\n",
      "ic| probs: [0.6, 0.4]\n",
      "ic| probs: [1.0]\n",
      "ic| probs: [1.0]\n",
      "ic| probs: [0.6, 0.4]\n",
      "ic| f: 'gender'\n",
      "ic| values: {'F', 'M'}\n",
      "ic| probs: [0.25, 0.75]\n",
      "ic| probs: [0.6666666666666666, 0.3333333333333333]\n",
      "ic| probs: [0.6666666666666666, 0.3333333333333333]\n",
      "ic| probs: [0.25, 0.75]\n",
      "ic| f: 'family_number'\n",
      "ic| values: {1, 2}\n",
      "ic| probs: [0.6, 0.4]\n",
      "ic| probs: [1.0]\n",
      "ic| probs: [1.0]\n",
      "ic| probs: [0.6, 0.4]\n",
      "ic| f: 'gender'\n",
      "ic| values: {'F', 'M'}\n",
      "ic|"
     ]
    },
    {
     "name": "stdout",
     "output_type": "stream",
     "text": [
      "spliter is: ('family_number', 2)\n",
      "the min entropy is: 0.6730116670092565\n"
     ]
    },
    {
     "name": "stderr",
     "output_type": "stream",
     "text": [
      " probs: [0.3333333333333333, 0.6666666666666666]\n",
      "ic| probs: [1.0]\n",
      "ic| probs: [1.0]\n",
      "ic| probs: [0.3333333333333333, 0.6666666666666666]\n",
      "ic| f: 'income'\n",
      "ic| values: {'+10', '-10'}\n",
      "ic| probs: [0.75, 0.25]\n",
      "ic| probs: [1.0]\n",
      "ic| probs: [1.0]\n",
      "ic| probs: [0.75, 0.25]\n",
      "ic| f: 'gender'\n",
      "ic| values: {'F', 'M'}\n",
      "ic| probs: [0.5, 0.5]\n"
     ]
    },
    {
     "name": "stdout",
     "output_type": "stream",
     "text": [
      "spliter is: ('income', '-10')\n",
      "the min entropy is: 0.5623351446188083\n"
     ]
    },
    {
     "name": "stderr",
     "output_type": "stream",
     "text": [
      "ic| probs: [1.0]\n",
      "ic| probs: [1.0]\n",
      "ic| probs: [0.5, 0.5]\n",
      "ic| f: 'gender'\n",
      "ic| values: {'F'}\n",
      "ic| probs: [1.0]\n"
     ]
    },
    {
     "name": "stdout",
     "output_type": "stream",
     "text": [
      "spliter is: ('gender', 'M')\n",
      "the min entropy is: 0.6931471805599453\n"
     ]
    },
    {
     "name": "stderr",
     "output_type": "stream",
     "text": [
      "ic| probs: []\n",
      "ic| f: 'gender'\n",
      "ic| values: {'F', 'M'}\n",
      "ic| probs: [1.0]\n",
      "ic| probs: [1.0]\n"
     ]
    },
    {
     "name": "stdout",
     "output_type": "stream",
     "text": [
      "spliter is: ('gender', 'F')\n",
      "the min entropy is: 0.0\n"
     ]
    },
    {
     "name": "stderr",
     "output_type": "stream",
     "text": [
      "ic| probs: [1.0]\n",
      "ic| probs: [1.0]\n",
      "ic| f: 'income'\n",
      "ic| values: {'+10', '-10'}\n",
      "ic| probs: [1.0]\n",
      "ic| probs: [1.0]\n",
      "ic| probs: [1.0]\n",
      "ic| probs: [1.0]\n",
      "ic| f: 'gender'\n",
      "ic| values: {'F'}\n",
      "ic| probs: [1.0]\n"
     ]
    },
    {
     "name": "stdout",
     "output_type": "stream",
     "text": [
      "spliter is: ('income', '-10')\n",
      "the min entropy is: -0.0\n"
     ]
    },
    {
     "name": "stderr",
     "output_type": "stream",
     "text": [
      "ic| probs: []\n",
      "ic| f: 'gender'\n",
      "ic| values: {'M'}\n",
      "ic|"
     ]
    },
    {
     "name": "stdout",
     "output_type": "stream",
     "text": [
      "spliter is: ('gender', 'F')\n",
      "the min entropy is: 0.0\n"
     ]
    },
    {
     "name": "stderr",
     "output_type": "stream",
     "text": [
      " probs: [1.0]\n",
      "ic| probs: []\n"
     ]
    },
    {
     "name": "stdout",
     "output_type": "stream",
     "text": [
      "spliter is: ('gender', 'M')\n",
      "the min entropy is: 0.0\n"
     ]
    }
   ],
   "source": [
    "tree = createTree(dataset, 'bought')"
   ]
  },
  {
   "cell_type": "code",
   "execution_count": 224,
   "metadata": {},
   "outputs": [
    {
     "data": {
      "text/plain": [
       "{'family_number': {1: {'income': {'+10': {'gender': {'F': 1, 'M': 0}},\n",
       "    '-10': {'gender': {'F': 1}}}},\n",
       "  2: {'income': {'+10': {'gender': {'F': 1}}, '-10': {'gender': {'M': 1}}}}}}"
      ]
     },
     "execution_count": 224,
     "metadata": {},
     "output_type": "execute_result"
    }
   ],
   "source": [
    "tree"
   ]
  },
  {
   "cell_type": "markdown",
   "metadata": {},
   "source": [
    "##### **（4）根据字典结构画出决策树**"
   ]
  },
  {
   "cell_type": "markdown",
   "metadata": {},
   "source": [
    "> 代码借鉴：\n",
    "> + https://blog.csdn.net/u012421852/article/details/79801466"
   ]
  },
  {
   "cell_type": "code",
   "execution_count": 225,
   "metadata": {
    "jupyter": {
     "source_hidden": true
    }
   },
   "outputs": [],
   "source": [
    "import matplotlib.pyplot as plt\n",
    " \n",
    "#定义判断结点形状,其中boxstyle表示文本框类型,fc指的是注释框颜色的深度\n",
    "decisionNode = dict(boxstyle=\"round4\", color='r', fc='0.9')\n",
    "#定义叶结点形状\n",
    "leafNode = dict(boxstyle=\"circle\", color='m')\n",
    "#定义父节点指向子节点或叶子的箭头形状\n",
    "arrow_args = dict(arrowstyle=\"<-\", color='g')\n",
    " \n",
    "def plot_node(node_txt, center_point, parent_point, node_style):\n",
    "    '''\n",
    "    绘制父子节点，节点间的箭头，并填充箭头中间上的文本\n",
    "    :param node_txt:文本内容\n",
    "    :param center_point:文本中心点\n",
    "    :param parent_point:指向文本中心的点\n",
    "    '''\n",
    "    createPlot.ax1.annotate(node_txt, \n",
    "                            xy=parent_point,\n",
    "                            xycoords='axes fraction',\n",
    "                            xytext=center_point,\n",
    "                            textcoords='axes fraction',\n",
    "                            va=\"center\",\n",
    "                            ha=\"center\",\n",
    "                            bbox=node_style,\n",
    "                            arrowprops=arrow_args)\n",
    " \n",
    "def get_leafs_num(tree_dict):\n",
    "    '''\n",
    "    获取叶节点的个数\n",
    "    :param tree_dict:树的数据字典\n",
    "    :return tree_dict的叶节点总个数\n",
    "    '''\n",
    "    #tree_dict的叶节点总数\n",
    "    leafs_num = 0\n",
    "    \n",
    "    #字典的第一个键，也就是树的第一个节点\n",
    "    root = list(tree_dict.keys())[0]\n",
    "    #这个键所对应的值，即该节点的所有子树。\n",
    "    child_tree_dict =tree_dict[root]\n",
    "    for key in child_tree_dict.keys():\n",
    "        #检测子树是否字典型\n",
    "        if type(child_tree_dict[key]).__name__=='dict':\n",
    "            #子树是字典型，则当前树的叶节点数加上此子树的叶节点数\n",
    "            leafs_num += get_leafs_num(child_tree_dict[key])\n",
    "        else:\n",
    "            #子树不是字典型，则当前树的叶节点数加1\n",
    "            leafs_num += 1\n",
    " \n",
    "    #返回tree_dict的叶节点总数\n",
    "    return leafs_num\n",
    " \n",
    "def get_tree_max_depth(tree_dict):\n",
    "    '''\n",
    "    求树的最深层数\n",
    "    :param tree_dict:树的字典存储\n",
    "    :return tree_dict的最深层数\n",
    "    '''\n",
    "    #tree_dict的最深层数\n",
    "    max_depth = 0\n",
    "    \n",
    "    #树的根节点\n",
    "    root = list(tree_dict.keys())[0]\n",
    "    #当前树的所有子树的字典\n",
    "    child_tree_dict = tree_dict[root]\n",
    "    \n",
    "    for key in child_tree_dict.keys():\n",
    "        #树的当前分支的层数\n",
    "        this_path_depth = 0\n",
    "        #检测子树是否字典型\n",
    "        if type(child_tree_dict[key]).__name__ == 'dict':\n",
    "            #如果子树是字典型，则当前分支的层数需要加上子树的最深层数\n",
    "            this_path_depth = 1 + get_tree_max_depth(child_tree_dict[key])\n",
    "        else:\n",
    "            #如果子树不是字典型，则是叶节点，则当前分支的层数为1\n",
    "            this_path_depth = 1\n",
    "        if this_path_depth > max_depth:\n",
    "            max_depth = this_path_depth\n",
    "    \n",
    "    #返回tree_dict的最深层数\n",
    "    return max_depth\n",
    " \n",
    "def plot_mid_text(center_point, parent_point, txt_str):\n",
    "    '''\n",
    "    计算父节点和子节点的中间位置，并在父子节点间填充文本信息\n",
    "    :param center_point:文本中心点\n",
    "    :param parent_point:指向文本中心点的点\n",
    "    '''\n",
    "    \n",
    "    x_mid = (parent_point[0] - center_point[0])/2.0 + center_point[0]\n",
    "    y_mid = (parent_point[1] - center_point[1])/2.0 + center_point[1]\n",
    "    createPlot.ax1.text(x_mid, y_mid, txt_str)\n",
    "    return\n",
    " \n",
    "def plotTree(tree_dict, parent_point, node_txt):\n",
    "    '''\n",
    "    绘制树\n",
    "    :param tree_dict:树\n",
    "    :param parent_point:父节点位置\n",
    "    :param node_txt:节点内容\n",
    "    '''\n",
    "    \n",
    "    leafs_num = get_leafs_num(tree_dict)\n",
    "    root = list(tree_dict.keys())[0]\n",
    "    #plotTree.totalW表示树的深度\n",
    "    center_point = (plotTree.xOff+(1.0+float(leafs_num))/2.0/plotTree.totalW,plotTree.yOff)\n",
    "    #填充node_txt内容\n",
    "    plot_mid_text(center_point, parent_point, node_txt)\n",
    "    #绘制箭头上的内容\n",
    "    plot_node(root, center_point, parent_point, decisionNode)\n",
    "    #子树\n",
    "    child_tree_dict = tree_dict[root]\n",
    "    plotTree.yOff=plotTree.yOff-1.0/plotTree.totalD\n",
    "    #因从上往下画，所以需要依次递减y的坐标值，plotTree.totalD表示存储树的深度\n",
    "    for key in child_tree_dict.keys():\n",
    "        if type(child_tree_dict[key]).__name__ == 'dict':\n",
    "            plotTree(child_tree_dict[key],center_point,str(key))\n",
    "        else:\n",
    "            plotTree.xOff=plotTree.xOff+1.0/plotTree.totalW\n",
    "            plot_node(child_tree_dict[key],(plotTree.xOff,plotTree.yOff),center_point,leafNode)\n",
    "            plot_mid_text((plotTree.xOff,plotTree.yOff),center_point,str(key))\n",
    "    #h绘制完所有子节点后，增加全局变量Y的偏移\n",
    "    plotTree.yOff=plotTree.yOff+1.0/plotTree.totalD\n",
    " \n",
    "    return\n",
    " \n",
    "def createPlot(tree_dict):\n",
    "    '''\n",
    "    绘制决策树图形\n",
    "    :param tree_dict\n",
    "    :return 无\n",
    "    '''\n",
    "    #设置绘图区域的背景色\n",
    "    fig=plt.figure(1,facecolor='white')\n",
    "    #清空绘图区域\n",
    "    fig.clf()\n",
    "    #定义横纵坐标轴,注意不要设置xticks和yticks的值!!!\n",
    "    axprops = dict(xticks=[], yticks=[])\n",
    "    createPlot.ax1=plt.subplot(111, frameon=False, **axprops)\n",
    "    #由全局变量createPlot.ax1定义一个绘图区，111表示一行一列的第一个，frameon表示边框,**axprops不显示刻度\n",
    "    plotTree.totalW=float(get_leafs_num(tree_dict))\n",
    "    plotTree.totalD=float(get_tree_max_depth(tree_dict))\n",
    "    plotTree.xOff=-0.5/plotTree.totalW;\n",
    "    plotTree.yOff=1.0;\n",
    "    plotTree(tree_dict, (0.5,1.0), '')\n",
    "    plt.show()"
   ]
  },
  {
   "cell_type": "code",
   "execution_count": 226,
   "metadata": {},
   "outputs": [
    {
     "data": {
      "image/png": "[encoded data removed]",
      "text/plain": [
       "<Figure size 432x288 with 1 Axes>"
      ]
     },
     "metadata": {},
     "output_type": "display_data"
    }
   ],
   "source": [
    "    createPlot(tree)"
   ]
  },
  {
   "cell_type": "code",
   "execution_count": 227,
   "metadata": {},
   "outputs": [
    {
     "data": {
      "text/html": [
       "<div>\n",
       "<style scoped>\n",
       "    .dataframe tbody tr th:only-of-type {\n",
       "        vertical-align: middle;\n",
       "    }\n",
       "\n",
       "    .dataframe tbody tr th {\n",
       "        vertical-align: top;\n",
       "    }\n",
       "\n",
       "    .dataframe thead th {\n",
       "        text-align: right;\n",
       "    }\n",
       "</style>\n",
       "<table border=\"1\" class=\"dataframe\">\n",
       "  <thead>\n",
       "    <tr style=\"text-align: right;\">\n",
       "      <th></th>\n",
       "      <th>gender</th>\n",
       "      <th>income</th>\n",
       "      <th>family_number</th>\n",
       "      <th>bought</th>\n",
       "    </tr>\n",
       "  </thead>\n",
       "  <tbody>\n",
       "    <tr>\n",
       "      <td>0</td>\n",
       "      <td>F</td>\n",
       "      <td>+10</td>\n",
       "      <td>1</td>\n",
       "      <td>1</td>\n",
       "    </tr>\n",
       "    <tr>\n",
       "      <td>1</td>\n",
       "      <td>F</td>\n",
       "      <td>-10</td>\n",
       "      <td>1</td>\n",
       "      <td>1</td>\n",
       "    </tr>\n",
       "    <tr>\n",
       "      <td>2</td>\n",
       "      <td>F</td>\n",
       "      <td>+10</td>\n",
       "      <td>2</td>\n",
       "      <td>1</td>\n",
       "    </tr>\n",
       "    <tr>\n",
       "      <td>3</td>\n",
       "      <td>F</td>\n",
       "      <td>+10</td>\n",
       "      <td>1</td>\n",
       "      <td>0</td>\n",
       "    </tr>\n",
       "    <tr>\n",
       "      <td>4</td>\n",
       "      <td>M</td>\n",
       "      <td>+10</td>\n",
       "      <td>1</td>\n",
       "      <td>0</td>\n",
       "    </tr>\n",
       "    <tr>\n",
       "      <td>5</td>\n",
       "      <td>M</td>\n",
       "      <td>+10</td>\n",
       "      <td>1</td>\n",
       "      <td>0</td>\n",
       "    </tr>\n",
       "    <tr>\n",
       "      <td>6</td>\n",
       "      <td>M</td>\n",
       "      <td>-10</td>\n",
       "      <td>2</td>\n",
       "      <td>1</td>\n",
       "    </tr>\n",
       "  </tbody>\n",
       "</table>\n",
       "</div>"
      ],
      "text/plain": [
       "  gender income  family_number  bought\n",
       "0      F    +10              1       1\n",
       "1      F    -10              1       1\n",
       "2      F    +10              2       1\n",
       "3      F    +10              1       0\n",
       "4      M    +10              1       0\n",
       "5      M    +10              1       0\n",
       "6      M    -10              2       1"
      ]
     },
     "execution_count": 227,
     "metadata": {},
     "output_type": "execute_result"
    }
   ],
   "source": [
    "dataset"
   ]
  },
  {
   "cell_type": "markdown",
   "metadata": {},
   "source": [
    "#### 4. Finish the K-Means using 2-D matplotlib (8 points)"
   ]
  },
  {
   "cell_type": "code",
   "execution_count": 228,
   "metadata": {},
   "outputs": [
    {
     "data": {
      "text/plain": [
       "<matplotlib.collections.PathCollection at 0x18303eaab88>"
      ]
     },
     "execution_count": 228,
     "metadata": {},
     "output_type": "execute_result"
    },
    {
     "data": {
      "image/png": "[encoded data removed]",
      "text/plain": [
       "<Figure size 432x288 with 1 Axes>"
      ]
     },
     "metadata": {
      "needs_background": "light"
     },
     "output_type": "display_data"
    }
   ],
   "source": [
    "import numpy as np\n",
    "from sklearn.cluster import KMeans\n",
    "from matplotlib import pyplot\n",
    " \n",
    "# 要分类的数据点\n",
    "x = np.array([ [1,2],[1.5,1.8],[5,8],[8,8],[1,0.6],[9,11] ])\n",
    "pyplot.scatter(x[:,0], x[:,1])"
   ]
  },
  {
   "cell_type": "code",
   "execution_count": 229,
   "metadata": {},
   "outputs": [
    {
     "name": "stdout",
     "output_type": "stream",
     "text": [
      "[[1.16666667 1.46666667]\n",
      " [7.33333333 9.        ]]\n",
      "[0 0 1 1 0 1]\n"
     ]
    },
    {
     "data": {
      "image/png": "[encoded data removed]",
      "text/plain": [
       "<Figure size 432x288 with 1 Axes>"
      ]
     },
     "metadata": {
      "needs_background": "light"
     },
     "output_type": "display_data"
    }
   ],
   "source": [
    "# 把上面数据点分为两组（非监督学习）\n",
    "clf = KMeans(n_clusters=2)\n",
    "clf.fit(x)  # 分组\n",
    " \n",
    "centers = clf.cluster_centers_ # 两组数据点的中心点\n",
    "labels = clf.labels_   # 每个数据点所属分组\n",
    "print(centers)\n",
    "print(labels)\n",
    " \n",
    "for i in range(len(labels)):\n",
    "    pyplot.scatter(x[i][0], x[i][1], c=('r' if labels[i] == 0 else 'b'))\n",
    "pyplot.scatter(centers[:,0],centers[:,1],marker='*', s=100)\n",
    " \n",
    "# 预测\n",
    "predict = [[2,1], [6,9]]\n",
    "label = clf.predict(predict)\n",
    "for i in range(len(label)):\n",
    "    pyplot.scatter(predict[i][0], predict[i][1], c=('r' if label[i] == 0 else 'b'), marker='x')\n",
    " \n",
    "pyplot.show()"
   ]
  },
  {
   "cell_type": "markdown",
   "metadata": {},
   "source": [
    "<评阅点>\n",
    "> + 是否完成了KMeans模型，基于scikit-learning (3')\n",
    "+ 是否完成了可视化任务（5'）"
   ]
  },
  {
   "cell_type": "markdown",
   "metadata": {},
   "source": [
    "## Part-2 Question and Answer 问答"
   ]
  },
  {
   "cell_type": "markdown",
   "metadata": {},
   "source": [
    "#### 1. What's the *model*? why  all the models are wrong, but some are useful? (5 points) "
   ]
  },
  {
   "cell_type": "markdown",
   "metadata": {},
   "source": [
    "Ans:\n",
    "1. 模型是现实世界数据特征的抽象\n",
    "2. 我们想通过模型来表示或获得现实世界的信息，但是没有模型能够完全准确地反映现实世界，但是有些模型可以更可能地接近真实的情况"
   ]
  },
  {
   "cell_type": "markdown",
   "metadata": {},
   "source": [
    "<评阅点>\n",
    "> + 对模型的理解是否正确,对模型的抽象性是否正确(5')"
   ]
  },
  {
   "cell_type": "markdown",
   "metadata": {},
   "source": [
    "#### 2. What's the underfitting and overfitting? List the reasons that could make model overfitting or underfitting. (10 points)"
   ]
  },
  {
   "cell_type": "markdown",
   "metadata": {},
   "source": [
    "Ans:\n",
    "1. 欠拟合\n",
    "- 欠拟合是指模型拟合程度不高，数据距离拟合曲线较远，或指模型没有很好地捕捉到数据特征，不能够很好地拟合数据。在训练集和测试集上都表现糟糕。\n",
    "- 欠拟合的原因\n",
    "   - 特征量过少\n",
    "   - 模型复杂度过低\n",
    "2. 过拟合\n",
    "- 过拟合是在训练集上表现良好，而在测试集上表现糟糕\n",
    "- 过拟合的原因\n",
    "   - 训练集和测试集特征分布不一致\n",
    "   - 数据噪声太大\n",
    "   - 数据量太小\n",
    "   - 特征量太多\n",
    "   - 模型太过复杂"
   ]
  },
  {
   "cell_type": "markdown",
   "metadata": {},
   "source": [
    "<评阅点>\n",
    "> + 对过拟合和欠拟合的理解是否正确 (3')\n",
    "+ 对欠拟合产生的原因是否理解正确(2')\n",
    "+ 对过拟合产生的原因是否理解正确(5')"
   ]
  },
  {
   "cell_type": "markdown",
   "metadata": {},
   "source": [
    "#### 3. What's the precision, recall, AUC, F1, F2score. What are they mainly target on? (12')"
   ]
  },
  {
   "cell_type": "markdown",
   "metadata": {},
   "source": [
    "Ans:"
   ]
  },
  {
   "cell_type": "markdown",
   "metadata": {},
   "source": [
    "|||\n",
    "|---|---|\n",
    "|TP|True Positive （真正, TP）被模型预测为正的正样本；可以称作判断为真的正确率 |\n",
    "|FP|True Negative（真负 , TN）被模型预测为负的负样本 ；可以称作判断为假的正确率 |\n",
    "|TN|False Positive （假正, FP）被模型预测为正的负样本；可以称作误报率 | \n",
    "|FN|False Negative（假负 , FN）被模型预测为负的正样本；可以称作漏报率 |"
   ]
  },
  {
   "cell_type": "markdown",
   "metadata": {},
   "source": [
    "|指标|----定义------|侧重点|\n",
    "|---|---|---|\n",
    "|precision|$P=\\frac{TP}{(TP+FP)}$|是针对我们预测结果而言的，它表示的是预测为正的样本中有多少是真正的正样本|\n",
    "|recall|$R=\\frac{TP}{(TP+FN)}$|是针对我们原来的样本而言的，它表示的是样本中的正例有多少被预测正确了|\n",
    "|F1|$\\frac{2}{(\\frac{1}{P}+\\frac{1}{R})}$|precision和recall在实际中两者是相互制约的。我们都希望模型的精确了和召回率都很高，但是当精确率高的时候，召回率往往较低；召回率较高的时候精确率往往较低。很多时候，我们需要综合权衡这2个指标，这就引出了一个新的指标F-Score，这是综合考虑Precision和Recall的调和值。精确率和召回率都高时，$F_1$值也会高。|"
   ]
  },
  {
   "cell_type": "markdown",
   "metadata": {},
   "source": [
    "<评阅点>\n",
    "> + 对precision, recall, AUC, F1, F2 理解是否正确(6‘)\n",
    "+ 对precision, recall, AUC, F1, F2的使用侧重点是否理解正确 (6’)"
   ]
  },
  {
   "cell_type": "markdown",
   "metadata": {},
   "source": [
    "#### 4. Based on our course and yourself mind, what's the machine learning?  (8')"
   ]
  },
  {
   "cell_type": "markdown",
   "metadata": {},
   "source": [
    "Ans:\n",
    "- 机器学习是一种能够赋予机器学习的能力以此让它完成直接编程无法完成的功能(如果可以通过分析式编程解决问题，那也就可以不需要使用机器学习了)的方法。从实践的意义上来说，机器学习是一种通过利用数据，训练出模型，然后使用模型预测的一种方法。"
   ]
  },
  {
   "cell_type": "markdown",
   "metadata": {},
   "source": [
    "<评阅点> 开放式问题，是否能说出来机器学习这种思维方式和传统的分析式编程的区别（8'）"
   ]
  },
  {
   "cell_type": "markdown",
   "metadata": {},
   "source": [
    "#### 5. \"正确定义了机器学习模型的评价标准(evaluation)， 问题基本上就已经解决一半\". 这句话是否正确？你是怎么看待的？ (8‘)"
   ]
  },
  {
   "cell_type": "markdown",
   "metadata": {},
   "source": [
    "- 同意这句话的观点。\n",
    "- 建立机器学习模型的想法是基于一个建设性的反馈原则。构建一个模型，从指标中获得反馈，进行改进，直到达到理想的精度为止。评估指标解释了模型的性能。评估指标的一个重要方面是它们区分模型结果的能力。仅仅关注模型的构建而不注重模型的鲁棒性是错误的。\n",
    "- 我们的动机不是简单地建立一个预测模型。它是关于创建和选择一个模型，使其对样本外的数据具有高精度。因此，在计算预测值之前，检查模型的准确性是至关重要的。"
   ]
  },
  {
   "cell_type": "markdown",
   "metadata": {},
   "source": [
    "<评阅点> 开放式问题，主要看能理解评价指标对机器学习模型的重要性."
   ]
  },
  {
   "cell_type": "markdown",
   "metadata": {},
   "source": [
    "## Part-03 Programming Practice 编程练习"
   ]
  },
  {
   "cell_type": "markdown",
   "metadata": {},
   "source": [
    "1. In our course and previous practice, we complete some importance components of Decision Tree. In this problem, you need to build a **completed** Decision Tree Model. You show finish a `predicate()` function, which accepts three parameters **<gender, income, family_number>**, and outputs the predicated 'bought': 1 or 0.  (20 points)"
   ]
  },
  {
   "cell_type": "code",
   "execution_count": 230,
   "metadata": {},
   "outputs": [
    {
     "data": {
      "image/png": "[encoded data removed]",
      "text/plain": [
       "<Figure size 432x288 with 1 Axes>"
      ]
     },
     "metadata": {},
     "output_type": "display_data"
    }
   ],
   "source": [
    " createPlot(tree)"
   ]
  },
  {
   "cell_type": "code",
   "execution_count": 231,
   "metadata": {},
   "outputs": [
    {
     "data": {
      "text/plain": [
       "{'family_number': {1: {'income': {'+10': {'gender': {'F': 1, 'M': 0}},\n",
       "    '-10': {'gender': {'F': 1}}}},\n",
       "  2: {'income': {'+10': {'gender': {'F': 1}}, '-10': {'gender': {'M': 1}}}}}}"
      ]
     },
     "execution_count": 231,
     "metadata": {},
     "output_type": "execute_result"
    }
   ],
   "source": [
    "tree"
   ]
  },
  {
   "cell_type": "code",
   "execution_count": 232,
   "metadata": {},
   "outputs": [],
   "source": [
    "test_dict = {\n",
    "    'gender':'M',\n",
    "    'income':'+10',\n",
    "    'family_number':1\n",
    "}"
   ]
  },
  {
   "cell_type": "code",
   "execution_count": 233,
   "metadata": {},
   "outputs": [],
   "source": [
    "test_dict1 = {\n",
    "    'gender':'M',\n",
    "    'income':'-10',\n",
    "    'family_number':1\n",
    "}"
   ]
  },
  {
   "cell_type": "code",
   "execution_count": 234,
   "metadata": {},
   "outputs": [],
   "source": [
    "def get_tree_result(tree_dict,test_dict):\n",
    "    \n",
    "    # 字典的第一个键，也就是树的第一个节点\n",
    "    root = list(tree_dict.keys())[0]\n",
    "    #这个键所对应的值，即该节点的所有子树。\n",
    "    child_tree_dict =tree_dict[root]\n",
    "    \n",
    "    # 如果只有一个选项，那么返回那一个选项所对应的值   （*） **base的情况1\n",
    "    if len(child_tree_dict.keys()) == 1:\n",
    "        key = list(child_tree_dict.keys())[0] #'dict_keys' object is not subscriptable,所以要list\n",
    "        return child_tree_dict[key]\n",
    " \n",
    "    for key in child_tree_dict.keys():\n",
    "        print(key)\n",
    "        #检测子树是否字典型（如果不是，则代表已经进入到决策树的最深层）  **base的情况2\n",
    "        if type(child_tree_dict[key]).__name__!='dict' and key == test_dict[root]:\n",
    "            return child_tree_dict[key]\n",
    "        if key == test_dict[root]:\n",
    "            # 进入下一级字典\n",
    "            print(tree_dict[root][key])\n",
    "            tree_dict = tree_dict[root][key]\n",
    "            # 递归\n",
    "            tree_dict = get_tree_result(tree_dict,test_dict)\n",
    "            return tree_dict"
   ]
  },
  {
   "cell_type": "code",
   "execution_count": 235,
   "metadata": {},
   "outputs": [
    {
     "name": "stdout",
     "output_type": "stream",
     "text": [
      "1\n",
      "{'income': {'+10': {'gender': {'F': 1, 'M': 0}}, '-10': {'gender': {'F': 1}}}}\n",
      "+10\n",
      "{'gender': {'F': 1, 'M': 0}}\n",
      "F\n",
      "M\n"
     ]
    },
    {
     "data": {
      "text/plain": [
       "0"
      ]
     },
     "execution_count": 235,
     "metadata": {},
     "output_type": "execute_result"
    }
   ],
   "source": [
    "get_tree_result(tree,test_dict) # 分类正确"
   ]
  },
  {
   "cell_type": "code",
   "execution_count": 236,
   "metadata": {},
   "outputs": [
    {
     "name": "stdout",
     "output_type": "stream",
     "text": [
      "1\n",
      "{'income': {'+10': {'gender': {'F': 1, 'M': 0}}, '-10': {'gender': {'F': 1}}}}\n",
      "+10\n",
      "-10\n",
      "{'gender': {'F': 1}}\n"
     ]
    },
    {
     "data": {
      "text/plain": [
       "1"
      ]
     },
     "execution_count": 236,
     "metadata": {},
     "output_type": "execute_result"
    }
   ],
   "source": [
    "get_tree_result(tree,test_dict1) \n",
    "# 如果get_tree_result函数中没有（*），那么这个分类则不会进行下去，原因是tree中按family=1,income='-10'后没有gender=M的选项"
   ]
  },
  {
   "cell_type": "code",
   "execution_count": 237,
   "metadata": {},
   "outputs": [],
   "source": [
    "def predict(training_set,target,test_dict):\n",
    "    decision_tree = createTree(training_set,target)\n",
    "    predict_value = get_tree_result(decision_tree,test_dict) \n",
    "    print('预测值是：' ,predict_value)\n",
    "    return predict_value"
   ]
  },
  {
   "cell_type": "code",
   "execution_count": 238,
   "metadata": {},
   "outputs": [
    {
     "name": "stderr",
     "output_type": "stream",
     "text": [
      "ic| f: 'income'\n",
      "ic| values: {'+10', '-10'}\n",
      "ic| probs: [0.6, 0.4]\n",
      "ic| probs: [1.0]\n",
      "ic| probs: [1.0]\n",
      "ic| probs: [0.6, 0.4]\n",
      "ic| f: 'gender'\n",
      "ic| values: {'F', 'M'}\n",
      "ic| probs: [0.25, 0.75]\n",
      "ic| probs: [0.6666666666666666, 0.3333333333333333]\n",
      "ic| probs: [0.6666666666666666, 0.3333333333333333]\n",
      "ic| probs: [0.25, 0.75]\n",
      "ic| f: 'family_number'\n",
      "ic| values: {1, 2}\n",
      "ic| probs: [0.6, 0.4]\n",
      "ic| probs: [1.0]\n",
      "ic| probs: [1.0]\n",
      "ic| probs: [0.6, 0.4]\n",
      "ic| f: 'gender'\n",
      "ic| values: {'F', 'M'}\n",
      "ic| probs: [0.3333333333333333, 0.6666666666666666]\n",
      "ic| probs: [1.0]\n"
     ]
    },
    {
     "name": "stdout",
     "output_type": "stream",
     "text": [
      "spliter is: ('family_number', 2)\n",
      "the min entropy is: 0.6730116670092565\n"
     ]
    },
    {
     "name": "stderr",
     "output_type": "stream",
     "text": [
      "ic| probs: [1.0]\n",
      "ic| probs: [0.3333333333333333, 0.6666666666666666]\n",
      "ic| f: 'income'\n",
      "ic| values: {'+10', '-10'}\n",
      "ic| probs: [0.75, 0.25]\n",
      "ic| probs: [1.0]\n",
      "ic| probs: [1.0]\n",
      "ic| probs: [0.75, 0.25]\n",
      "ic| f: 'gender'\n",
      "ic| values: {'F', 'M'}\n",
      "ic| probs: [0.5, 0.5]\n",
      "ic"
     ]
    },
    {
     "name": "stdout",
     "output_type": "stream",
     "text": [
      "spliter is: ('income', '-10')\n",
      "the min entropy is: 0.5623351446188083\n"
     ]
    },
    {
     "name": "stderr",
     "output_type": "stream",
     "text": [
      "| probs: [1.0]\n",
      "ic| probs: [1.0]\n",
      "ic| probs: [0.5, 0.5]\n",
      "ic| f: 'gender'\n",
      "ic| values: {'F'}\n",
      "ic| probs: [1.0]\n",
      "ic| probs: []\n",
      "ic|"
     ]
    },
    {
     "name": "stdout",
     "output_type": "stream",
     "text": [
      "spliter is: ('gender', 'M')\n",
      "the min entropy is: 0.6931471805599453\n",
      "spliter is: ('gender', 'F')\n",
      "the min entropy is: 0.0\n"
     ]
    },
    {
     "name": "stderr",
     "output_type": "stream",
     "text": [
      " f: 'gender'\n",
      "ic| values: {'F', 'M'}\n",
      "ic| probs: [1.0]\n",
      "ic| probs: [1.0]\n",
      "ic| probs: [1.0]\n",
      "ic| probs: [1.0]\n",
      "ic| f: 'income'\n",
      "ic| values: {'+10', '-10'}\n",
      "ic| probs: [1.0]\n",
      "ic| probs: [1.0]\n",
      "ic| probs: [1.0]\n",
      "ic| probs: [1.0]\n",
      "ic| f: 'gender'\n",
      "ic| values: {'F'}\n",
      "ic| probs: [1.0]\n",
      "ic| probs: []\n"
     ]
    },
    {
     "name": "stdout",
     "output_type": "stream",
     "text": [
      "spliter is: ('income', '-10')\n",
      "the min entropy is: -0.0\n",
      "spliter is: ('gender', 'F')\n",
      "the min entropy is: 0.0\n"
     ]
    },
    {
     "name": "stderr",
     "output_type": "stream",
     "text": [
      "ic| f: 'gender'\n",
      "ic| values: {'M'}\n",
      "ic| probs: [1.0]\n",
      "ic| probs: []\n"
     ]
    },
    {
     "name": "stdout",
     "output_type": "stream",
     "text": [
      "spliter is: ('gender', 'M')\n",
      "the min entropy is: 0.0\n",
      "1\n",
      "{'income': {'+10': {'gender': {'F': 1, 'M': 0}}, '-10': {'gender': {'F': 1}}}}\n",
      "+10\n",
      "{'gender': {'F': 1, 'M': 0}}\n",
      "F\n",
      "M\n",
      "预测值是： 0\n"
     ]
    },
    {
     "data": {
      "text/plain": [
       "0"
      ]
     },
     "execution_count": 238,
     "metadata": {},
     "output_type": "execute_result"
    }
   ],
   "source": [
    "predict(dataset,'bought',test_dict) "
   ]
  },
  {
   "cell_type": "markdown",
   "metadata": {},
   "source": [
    "<评阅点>\n",
    "> + 是否将之前的决策树模型的部分进行合并组装， predicate函数能够顺利运行(8')\n",
    "+ 是够能够输入未曾见过的X变量，例如gender, income, family_number 分别是： <M, -10, 1>, 模型能够预测出结果 (12')"
   ]
  },
  {
   "cell_type": "markdown",
   "metadata": {},
   "source": [
    "2. 将上一节课(第二节课)的线性回归问题中的Loss函数改成\"绝对值\"，并且改变其偏导的求值方式，观察其结果的变化。(19 point)"
   ]
  },
  {
   "cell_type": "markdown",
   "metadata": {},
   "source": [
    "##### **（1）重新定义loss function**"
   ]
  },
  {
   "cell_type": "markdown",
   "metadata": {},
   "source": [
    "$$ y =k*rm+b$$"
   ]
  },
  {
   "cell_type": "code",
   "execution_count": 239,
   "metadata": {},
   "outputs": [],
   "source": [
    "#define target function\n",
    "def price(rm, k, b):\n",
    "    return k * rm + b"
   ]
  },
  {
   "cell_type": "markdown",
   "metadata": {},
   "source": [
    "$$loss = J=\\frac{1}{n}\\sum\\limits_{i = 1}^{n}|y_i - \\hat y_i|$$"
   ]
  },
  {
   "cell_type": "markdown",
   "metadata": {},
   "source": [
    "$$loss =J= \\frac{1}{n}\\sum\\limits_{i = 1}^{n}|y_i - (k * x_i + b)|$$"
   ]
  },
  {
   "cell_type": "markdown",
   "metadata": {},
   "source": [
    "当$y_i >\\hat y_i$时： $$|y_i-\\hat y|=y_i-\\hat y=y_i-k*x_i-b$$"
   ]
  },
  {
   "cell_type": "markdown",
   "metadata": {},
   "source": [
    "$$\\frac{\\partial J}{ \\partial k}=-x_i$$\n"
   ]
  },
  {
   "cell_type": "markdown",
   "metadata": {},
   "source": [
    "$$\\frac{\\partial J}{ \\partial b}=-1$$"
   ]
  },
  {
   "cell_type": "markdown",
   "metadata": {},
   "source": [
    "当$y_i <\\hat y_i$时： $$|y_i-\\hat y|=\\hat y-y_i=k*x_i+b-y_i$$"
   ]
  },
  {
   "cell_type": "markdown",
   "metadata": {},
   "source": [
    "$$\\frac{\\partial J}{ \\partial k}=x_i$$"
   ]
  },
  {
   "cell_type": "markdown",
   "metadata": {},
   "source": [
    "$$\\frac{\\partial J}{ \\partial b}=1$$"
   ]
  },
  {
   "cell_type": "code",
   "execution_count": 240,
   "metadata": {},
   "outputs": [],
   "source": [
    "# define loss function\n",
    "def loss(y,y_hat):\n",
    "    return sum(abs(y_i - y_hat_i) for y_i, y_hat_i in zip(list(y),list(y_hat)))/len(list(y))"
   ]
  },
  {
   "cell_type": "markdown",
   "metadata": {},
   "source": [
    "##### **（2）重新定义偏导**"
   ]
  },
  {
   "cell_type": "code",
   "execution_count": 264,
   "metadata": {},
   "outputs": [],
   "source": [
    "# define partial derivative\n",
    "def partial_derivative_k(x, y, y_hat):\n",
    "    n = len(y)\n",
    "    gradient = 0\n",
    "    for x_i, y_i, y_hat_i in zip(list(x),list(y),list(y_hat)):\n",
    "        if y_i >= y_hat_i:\n",
    "            gradient += -x_i\n",
    "        else:\n",
    "            gradient += x_i\n",
    "    return 1/n * gradient\n",
    "    \n",
    "def partial_derivative_b(y, y_hat):\n",
    "    n = len(y)\n",
    "    gradient = 0\n",
    "    for y_i, y_hat_i in zip(list(y),list(y_hat)):\n",
    "        if y_i >= y_hat_i:\n",
    "            gradient += -1\n",
    "        else:\n",
    "            gradient += 1\n",
    "    return 1 / n * gradient"
   ]
  },
  {
   "cell_type": "markdown",
   "metadata": {},
   "source": [
    "##### **（3）准备Boston数据**"
   ]
  },
  {
   "cell_type": "code",
   "execution_count": 268,
   "metadata": {},
   "outputs": [],
   "source": [
    "from sklearn.datasets import load_boston\n",
    "import random"
   ]
  },
  {
   "cell_type": "code",
   "execution_count": 269,
   "metadata": {},
   "outputs": [],
   "source": [
    "dataset = load_boston()"
   ]
  },
  {
   "cell_type": "code",
   "execution_count": 270,
   "metadata": {},
   "outputs": [],
   "source": [
    "x,y=dataset['data'],dataset['target']"
   ]
  },
  {
   "cell_type": "code",
   "execution_count": 271,
   "metadata": {},
   "outputs": [
    {
     "data": {
      "text/plain": [
       "(506, 13)"
      ]
     },
     "execution_count": 271,
     "metadata": {},
     "output_type": "execute_result"
    }
   ],
   "source": [
    "x.shape  # 506条观测值，13个feature"
   ]
  },
  {
   "cell_type": "code",
   "execution_count": 272,
   "metadata": {},
   "outputs": [
    {
     "data": {
      "text/plain": [
       "(506,)"
      ]
     },
     "execution_count": 272,
     "metadata": {},
     "output_type": "execute_result"
    }
   ],
   "source": [
    "y.shape"
   ]
  },
  {
   "cell_type": "code",
   "execution_count": 273,
   "metadata": {},
   "outputs": [
    {
     "data": {
      "text/plain": [
       "array([2.7310e-02, 0.0000e+00, 7.0700e+00, 0.0000e+00, 4.6900e-01,\n",
       "       6.4210e+00, 7.8900e+01, 4.9671e+00, 2.0000e+00, 2.4200e+02,\n",
       "       1.7800e+01, 3.9690e+02, 9.1400e+00])"
      ]
     },
     "execution_count": 273,
     "metadata": {},
     "output_type": "execute_result"
    }
   ],
   "source": [
    "x[1]   # 一行"
   ]
  },
  {
   "cell_type": "code",
   "execution_count": 274,
   "metadata": {},
   "outputs": [
    {
     "data": {
      "text/plain": [
       "array(['CRIM', 'ZN', 'INDUS', 'CHAS', 'NOX', 'RM', 'AGE', 'DIS', 'RAD',\n",
       "       'TAX', 'PTRATIO', 'B', 'LSTAT'], dtype='<U7')"
      ]
     },
     "execution_count": 274,
     "metadata": {},
     "output_type": "execute_result"
    }
   ],
   "source": [
    "dataset.feature_names"
   ]
  },
  {
   "cell_type": "code",
   "execution_count": 275,
   "metadata": {},
   "outputs": [],
   "source": [
    "# 取前5个feature\n",
    "X_rm = x[:,5]"
   ]
  },
  {
   "cell_type": "code",
   "execution_count": 276,
   "metadata": {},
   "outputs": [
    {
     "data": {
      "text/plain": [
       "<matplotlib.collections.PathCollection at 0x183043b9e88>"
      ]
     },
     "execution_count": 276,
     "metadata": {},
     "output_type": "execute_result"
    },
    {
     "data": {
      "image/png": "[encoded data removed]",
      "text/plain": [
       "<Figure size 432x288 with 1 Axes>"
      ]
     },
     "metadata": {
      "needs_background": "light"
     },
     "output_type": "display_data"
    }
   ],
   "source": [
    "plt.scatter(X_rm,y)"
   ]
  },
  {
   "cell_type": "markdown",
   "metadata": {},
   "source": [
    "##### **（4）进行regression**"
   ]
  },
  {
   "cell_type": "code",
   "execution_count": 277,
   "metadata": {},
   "outputs": [
    {
     "name": "stdout",
     "output_type": "stream",
     "text": [
      "Iteration 0, the loss is 490.5748446984478, parameters k is -69.26712592365834 and b is -32.72347688148814\n",
      "Iteration 1, the loss is 486.52518176017935, parameters k is -68.63866248492316 and b is -32.62347688148814\n",
      "Iteration 2, the loss is 482.4755188219108, parameters k is -68.01019904618798 and b is -32.523476881488136\n",
      "Iteration 3, the loss is 478.42585588364284, parameters k is -67.3817356074528 and b is -32.423476881488135\n",
      "Iteration 4, the loss is 474.376192945374, parameters k is -66.75327216871761 and b is -32.32347688148813\n",
      "Iteration 5, the loss is 470.3265300071054, parameters k is -66.12480872998243 and b is -32.22347688148813\n",
      "Iteration 6, the loss is 466.2768670688367, parameters k is -65.49634529124725 and b is -32.12347688148813\n",
      "Iteration 7, the loss is 462.2272041305682, parameters k is -64.86788185251207 and b is -32.02347688148813\n",
      "Iteration 8, the loss is 458.1775411923006, parameters k is -64.23941841377689 and b is -31.923476881488128\n",
      "Iteration 9, the loss is 454.12787825403166, parameters k is -63.61095497504171 and b is -31.823476881488126\n",
      "Iteration 10, the loss is 450.07821531576315, parameters k is -62.982491536306526 and b is -31.723476881488125\n",
      "Iteration 11, the loss is 446.02855237749475, parameters k is -62.354028097571344 and b is -31.623476881488124\n",
      "Iteration 12, the loss is 441.97888943922567, parameters k is -61.72556465883616 and b is -31.523476881488122\n",
      "Iteration 13, the loss is 437.92922650095784, parameters k is -61.09710122010098 and b is -31.42347688148812\n",
      "Iteration 14, the loss is 433.8795635626893, parameters k is -60.4686377813658 and b is -31.32347688148812\n",
      "Iteration 15, the loss is 429.82990062442053, parameters k is -59.84017434263062 and b is -31.223476881488118\n",
      "Iteration 16, the loss is 425.7802376861524, parameters k is -59.21171090389544 and b is -31.123476881488116\n",
      "Iteration 17, the loss is 421.7305747478837, parameters k is -58.583247465160255 and b is -31.023476881488115\n",
      "Iteration 18, the loss is 417.68091180961517, parameters k is -57.954784026425074 and b is -30.923476881488114\n",
      "Iteration 19, the loss is 413.6312488713472, parameters k is -57.32632058768989 and b is -30.823476881488112\n",
      "Iteration 20, the loss is 409.5815859330786, parameters k is -56.69785714895471 and b is -30.72347688148811\n",
      "Iteration 21, the loss is 405.5319229948102, parameters k is -56.06939371021953 and b is -30.62347688148811\n",
      "Iteration 22, the loss is 401.4822600565418, parameters k is -55.44093027148435 and b is -30.523476881488108\n",
      "Iteration 23, the loss is 397.43259711827324, parameters k is -54.812466832749166 and b is -30.423476881488106\n",
      "Iteration 24, the loss is 393.38293418000455, parameters k is -54.184003394013985 and b is -30.323476881488105\n",
      "Iteration 25, the loss is 389.33327124173627, parameters k is -53.5555399552788 and b is -30.223476881488104\n",
      "Iteration 26, the loss is 385.28360830346776, parameters k is -52.92707651654362 and b is -30.123476881488102\n",
      "Iteration 27, the loss is 381.2339453651994, parameters k is -52.29861307780844 and b is -30.0234768814881\n",
      "Iteration 28, the loss is 377.1842824269305, parameters k is -51.67014963907326 and b is -29.9234768814881\n",
      "Iteration 29, the loss is 373.1346194886627, parameters k is -51.04168620033808 and b is -29.823476881488098\n",
      "Iteration 30, the loss is 369.08495655039366, parameters k is -50.413222761602896 and b is -29.723476881488097\n",
      "Iteration 31, the loss is 365.03529361212486, parameters k is -49.784759322867714 and b is -29.623476881488095\n",
      "Iteration 32, the loss is 360.9856306738571, parameters k is -49.15629588413253 and b is -29.523476881488094\n",
      "Iteration 33, the loss is 356.9359677355882, parameters k is -48.52783244539735 and b is -29.423476881488092\n",
      "Iteration 34, the loss is 352.8863047973198, parameters k is -47.89936900666217 and b is -29.32347688148809\n",
      "Iteration 35, the loss is 348.8366418590512, parameters k is -47.27090556792699 and b is -29.22347688148809\n",
      "Iteration 36, the loss is 344.786978920783, parameters k is -46.64244212919181 and b is -29.123476881488088\n",
      "Iteration 37, the loss is 340.73731598251476, parameters k is -46.013978690456625 and b is -29.023476881488087\n",
      "Iteration 38, the loss is 336.6876530442459, parameters k is -45.38551525172144 and b is -28.923476881488085\n",
      "Iteration 39, the loss is 332.6379901059771, parameters k is -44.75705181298626 and b is -28.823476881488084\n",
      "Iteration 40, the loss is 328.58832716770894, parameters k is -44.12858837425108 and b is -28.723476881488082\n",
      "Iteration 41, the loss is 324.5386642294405, parameters k is -43.5001249355159 and b is -28.62347688148808\n",
      "Iteration 42, the loss is 320.48900129117203, parameters k is -42.87166149678072 and b is -28.52347688148808\n",
      "Iteration 43, the loss is 316.4393383529036, parameters k is -42.243198058045536 and b is -28.423476881488078\n",
      "Iteration 44, the loss is 312.3896754146352, parameters k is -41.614734619310354 and b is -28.323476881488077\n",
      "Iteration 45, the loss is 308.3400124763667, parameters k is -40.98627118057517 and b is -28.223476881488075\n",
      "Iteration 46, the loss is 304.29034953809816, parameters k is -40.35780774183999 and b is -28.123476881488074\n",
      "Iteration 47, the loss is 300.24068659982964, parameters k is -39.72934430310481 and b is -28.023476881488072\n",
      "Iteration 48, the loss is 296.191023661561, parameters k is -39.10088086436963 and b is -27.92347688148807\n",
      "Iteration 49, the loss is 292.14136072329285, parameters k is -38.47241742563445 and b is -27.82347688148807\n",
      "Iteration 50, the loss is 288.0916977850242, parameters k is -37.843953986899265 and b is -27.723476881488068\n",
      "Iteration 51, the loss is 284.0420348467559, parameters k is -37.215490548164084 and b is -27.623476881488067\n",
      "Iteration 52, the loss is 279.9923719084876, parameters k is -36.5870271094289 and b is -27.523476881488065\n",
      "Iteration 53, the loss is 275.94270897021886, parameters k is -35.95856367069372 and b is -27.423476881488064\n",
      "Iteration 54, the loss is 271.8930460319505, parameters k is -35.33010023195854 and b is -27.323476881488062\n",
      "Iteration 55, the loss is 267.843383093682, parameters k is -34.70163679322336 and b is -27.22347688148806\n",
      "Iteration 56, the loss is 263.79372015541367, parameters k is -34.073173354488176 and b is -27.12347688148806\n",
      "Iteration 57, the loss is 259.74405721714527, parameters k is -33.444709915752995 and b is -27.023476881488058\n",
      "Iteration 58, the loss is 255.69439427887656, parameters k is -32.81624647701781 and b is -26.923476881488057\n",
      "Iteration 59, the loss is 251.64473134060825, parameters k is -32.18778303828263 and b is -26.823476881488055\n",
      "Iteration 60, the loss is 247.59506840233954, parameters k is -31.559319599547454 and b is -26.723476881488054\n",
      "Iteration 61, the loss is 243.54540546407137, parameters k is -30.930856160812276 and b is -26.623476881488052\n",
      "Iteration 62, the loss is 239.49574252580285, parameters k is -30.302392722077098 and b is -26.52347688148805\n",
      "Iteration 63, the loss is 235.4460795875341, parameters k is -29.67392928334192 and b is -26.42347688148805\n",
      "Iteration 64, the loss is 231.3964166492657, parameters k is -29.045465844606742 and b is -26.323476881488048\n",
      "Iteration 65, the loss is 227.34675371099726, parameters k is -28.417002405871564 and b is -26.223476881488047\n",
      "Iteration 66, the loss is 223.29709077272892, parameters k is -27.788538967136386 and b is -26.123476881488045\n",
      "Iteration 67, the loss is 219.2474278344604, parameters k is -27.160075528401208 and b is -26.023476881488044\n",
      "Iteration 68, the loss is 215.19776489619227, parameters k is -26.53161208966603 and b is -25.923476881488043\n",
      "Iteration 69, the loss is 211.14810195792361, parameters k is -25.903148650930852 and b is -25.82347688148804\n",
      "Iteration 70, the loss is 207.09843901965488, parameters k is -25.274685212195674 and b is -25.72347688148804\n",
      "Iteration 71, the loss is 203.04877608138645, parameters k is -24.646221773460496 and b is -25.62347688148804\n",
      "Iteration 72, the loss is 198.99911314311834, parameters k is -24.01775833472532 and b is -25.523476881488037\n",
      "Iteration 73, the loss is 194.94945020484997, parameters k is -23.38929489599014 and b is -25.423476881488035\n",
      "Iteration 74, the loss is 190.89978726658146, parameters k is -22.760831457254962 and b is -25.323476881488034\n",
      "Iteration 75, the loss is 186.8501243283129, parameters k is -22.132368018519784 and b is -25.223476881488033\n",
      "Iteration 76, the loss is 182.8004613900446, parameters k is -21.503904579784606 and b is -25.12347688148803\n",
      "Iteration 77, the loss is 178.75079845177603, parameters k is -20.87544114104943 and b is -25.02347688148803\n",
      "Iteration 78, the loss is 174.7011355135075, parameters k is -20.24697770231425 and b is -24.92347688148803\n",
      "Iteration 79, the loss is 170.65147257523924, parameters k is -19.618514263579073 and b is -24.823476881488027\n",
      "Iteration 80, the loss is 166.60180963697076, parameters k is -18.990050824843895 and b is -24.723476881488025\n",
      "Iteration 81, the loss is 162.55214669870247, parameters k is -18.361587386108717 and b is -24.623476881488024\n",
      "Iteration 82, the loss is 158.50248376043365, parameters k is -17.73312394737354 and b is -24.523476881488023\n",
      "Iteration 83, the loss is 154.45282082216517, parameters k is -17.10466050863836 and b is -24.42347688148802\n",
      "Iteration 84, the loss is 150.40315788389688, parameters k is -16.476197069903183 and b is -24.32347688148802\n",
      "Iteration 85, the loss is 146.35349494562828, parameters k is -15.847733631168005 and b is -24.22347688148802\n",
      "Iteration 86, the loss is 142.30383200735997, parameters k is -15.219270192432827 and b is -24.123476881488017\n",
      "Iteration 87, the loss is 138.25416906909138, parameters k is -14.590806753697649 and b is -24.023476881488016\n",
      "Iteration 88, the loss is 134.2045061308231, parameters k is -13.962343314962471 and b is -23.923476881488014\n",
      "Iteration 89, the loss is 130.15484319255467, parameters k is -13.333879876227293 and b is -23.823476881488013\n",
      "Iteration 90, the loss is 126.10518025428618, parameters k is -12.705416437492115 and b is -23.72347688148801\n",
      "Iteration 91, the loss is 122.0555173160178, parameters k is -12.076952998756937 and b is -23.62347688148801\n",
      "Iteration 92, the loss is 118.0058543777492, parameters k is -11.448489560021759 and b is -23.52347688148801\n",
      "Iteration 93, the loss is 113.95619143948076, parameters k is -10.820026121286581 and b is -23.423476881488007\n",
      "Iteration 94, the loss is 109.90652850121221, parameters k is -10.191562682551403 and b is -23.323476881488006\n",
      "Iteration 95, the loss is 105.85686556294402, parameters k is -9.563099243816225 and b is -23.223476881488004\n",
      "Iteration 96, the loss is 101.80720262467541, parameters k is -8.934635805081047 and b is -23.123476881488003\n",
      "Iteration 97, the loss is 97.75753968640694, parameters k is -8.30617236634587 and b is -23.023476881488\n",
      "Iteration 98, the loss is 93.70787674813863, parameters k is -7.6777089276106905 and b is -22.923476881488\n",
      "Iteration 99, the loss is 89.65821380987012, parameters k is -7.049245488875512 and b is -22.823476881488\n",
      "Iteration 100, the loss is 85.60855087160162, parameters k is -6.420782050140333 and b is -22.723476881487997\n",
      "Iteration 101, the loss is 81.55888793333321, parameters k is -5.792318611405154 and b is -22.623476881487996\n",
      "Iteration 102, the loss is 77.50922499506484, parameters k is -5.163855172669975 and b is -22.523476881487994\n",
      "Iteration 103, the loss is 73.45956205679634, parameters k is -4.535391733934796 and b is -22.423476881487993\n",
      "Iteration 104, the loss is 69.40989911852782, parameters k is -3.9069282951996174 and b is -22.32347688148799\n",
      "Iteration 105, the loss is 65.3602361802594, parameters k is -3.2784648564644385 and b is -22.22347688148799\n",
      "Iteration 106, the loss is 61.31057324199095, parameters k is -2.6500014177292597 and b is -22.12347688148799\n",
      "Iteration 107, the loss is 57.26091030372254, parameters k is -2.021537978994081 and b is -22.023476881487987\n",
      "Iteration 108, the loss is 53.21124736545404, parameters k is -1.393074540258902 and b is -21.923476881487986\n",
      "Iteration 109, the loss is 49.16158442718551, parameters k is -0.7646111015237232 and b is -21.823476881487984\n",
      "Iteration 110, the loss is 45.11192148891707, parameters k is -0.1361476627885445 and b is -21.723476881487983\n",
      "Iteration 111, the loss is 41.06225855064866, parameters k is 0.4923157759466342 and b is -21.62347688148798\n",
      "Iteration 112, the loss is 37.01259561238018, parameters k is 1.120779214681813 and b is -21.52347688148798\n",
      "Iteration 113, the loss is 32.962932674111755, parameters k is 1.7492426534169918 and b is -21.42347688148798\n",
      "Iteration 114, the loss is 28.913269735843343, parameters k is 2.3777060921521707 and b is -21.323476881487977\n",
      "Iteration 115, the loss is 24.863606797574842, parameters k is 3.0061695308873495 and b is -21.223476881487976\n",
      "Iteration 116, the loss is 20.81394385930637, parameters k is 3.6346329696225284 and b is -21.123476881487974\n",
      "Iteration 117, the loss is 16.765817849733555, parameters k is 4.263096408357707 and b is -21.023476881487973\n",
      "Iteration 118, the loss is 12.838632198735704, parameters k is 4.888879214681818 and b is -20.92387213840497\n",
      "Iteration 119, the loss is 9.471824777140814, parameters k is 5.481514985432807 and b is -20.829405735242915\n",
      "Iteration 120, the loss is 7.07770661558545, parameters k is 5.989976052626483 and b is -20.748378067258724\n",
      "Iteration 121, the loss is 5.558052161247005, parameters k is 6.395705104009882 and b is -20.684346446705366\n",
      "Iteration 122, the loss is 4.8052108276309795, parameters k is 6.705819530887352 and b is -20.636125102831848\n",
      "Iteration 123, the loss is 4.691027883085448, parameters k is 6.850917752231225 and b is -20.615176486231057\n",
      "Iteration 124, the loss is 4.690714609382726, parameters k is 6.861864590175889 and b is -20.615967000065048\n",
      "Iteration 125, the loss is 4.690632568185003, parameters k is 6.8611236810849805 and b is -20.61873379848402\n",
      "Iteration 126, the loss is 4.690550526987282, parameters k is 6.860382771994072 and b is -20.62150059690299\n",
      "Iteration 127, the loss is 4.690468485789558, parameters k is 6.859641862903163 and b is -20.62426739532196\n",
      "Iteration 128, the loss is 4.690386444591833, parameters k is 6.858900953812254 and b is -20.627034193740933\n",
      "Iteration 129, the loss is 4.690323688443568, parameters k is 6.8581600447213455 and b is -20.629800992159904\n",
      "Iteration 130, the loss is 4.690280040822058, parameters k is 6.862251941954547 and b is -20.631777276744884\n",
      "Iteration 131, the loss is 4.690197999624335, parameters k is 6.861511032863638 and b is -20.634544075163856\n",
      "Iteration 132, the loss is 4.690115958426609, parameters k is 6.860770123772729 and b is -20.637310873582827\n",
      "Iteration 133, the loss is 4.690044107490107, parameters k is 6.860029214681821 and b is -20.640077672001798\n",
      "Iteration 134, the loss is 4.690009554656828, parameters k is 6.864121111915022 and b is -20.64205395658678\n",
      "Iteration 135, the loss is 4.6899275134591045, parameters k is 6.863380202824113 and b is -20.64482075500575\n",
      "Iteration 136, the loss is 4.689845472261379, parameters k is 6.862639293733205 and b is -20.64758755342472\n",
      "Iteration 137, the loss is 4.68976891289489, parameters k is 6.861898384642296 and b is -20.650354351843692\n",
      "Iteration 138, the loss is 4.689709460448984, parameters k is 6.86347012377273 and b is -20.652725893345668\n",
      "Iteration 139, the loss is 4.689633996550317, parameters k is 6.8627292146818215 and b is -20.65549269176464\n",
      "Iteration 140, the loss is 4.68957344863658, parameters k is 6.864300953812256 and b is -20.657864233266615\n",
      "Iteration 141, the loss is 4.689499080205737, parameters k is 6.863560044721347 and b is -20.660631031685586\n",
      "Iteration 142, the loss is 4.689437436824174, parameters k is 6.865131783851782 and b is -20.663002573187562\n",
      "Iteration 143, the loss is 4.6893641638611605, parameters k is 6.864390874760873 and b is -20.665769371606533\n",
      "Iteration 144, the loss is 4.6893014250117755, parameters k is 6.865962613891307 and b is -20.66814091310851\n",
      "Iteration 145, the loss is 4.689229247516583, parameters k is 6.8652217048003985 and b is -20.67090771152748\n",
      "Iteration 146, the loss is 4.68916541319937, parameters k is 6.866793443930833 and b is -20.673279253029456\n",
      "Iteration 147, the loss is 4.689094331172014, parameters k is 6.866052534839924 and b is -20.676046051448427\n",
      "Iteration 148, the loss is 4.689029401386973, parameters k is 6.867624273970359 and b is -20.678417592950403\n",
      "Iteration 149, the loss is 4.68895941482743, parameters k is 6.86688336487945 and b is -20.681184391369374\n",
      "Iteration 150, the loss is 4.688893389574573, parameters k is 6.868455104009884 and b is -20.68355593287135\n",
      "Iteration 151, the loss is 4.688824498482855, parameters k is 6.8677141949189755 and b is -20.68632273129032\n",
      "Iteration 152, the loss is 4.688757377762173, parameters k is 6.86928593404941 and b is -20.688694272792297\n",
      "Iteration 153, the loss is 4.688689582138283, parameters k is 6.868545024958501 and b is -20.69146107121127\n",
      "Iteration 154, the loss is 4.688621365949766, parameters k is 6.870116764088936 and b is -20.693832612713244\n",
      "Iteration 155, the loss is 4.688554665793701, parameters k is 6.869375854998027 and b is -20.696599411132215\n",
      "Iteration 156, the loss is 4.688485354137367, parameters k is 6.870947594128461 and b is -20.69897095263419\n",
      "Iteration 157, the loss is 4.688419749449126, parameters k is 6.8702066850375525 and b is -20.701737751053162\n",
      "Iteration 158, the loss is 4.68834934232497, parameters k is 6.871778424167987 and b is -20.704109292555138\n",
      "Iteration 159, the loss is 4.688284833104555, parameters k is 6.871037515077078 and b is -20.70687609097411\n",
      "Iteration 160, the loss is 4.688213330512566, parameters k is 6.872609254207513 and b is -20.709247632476085\n",
      "Iteration 161, the loss is 4.688149916759974, parameters k is 6.871868345116604 and b is -20.712014430895056\n",
      "Iteration 162, the loss is 4.688077318700166, parameters k is 6.873440084247038 and b is -20.714385972397032\n",
      "Iteration 163, the loss is 4.688015000415401, parameters k is 6.8726991751561295 and b is -20.717152770816003\n",
      "Iteration 164, the loss is 4.687941306887757, parameters k is 6.874270914286564 and b is -20.71952431231798\n",
      "Iteration 165, the loss is 4.687880084070823, parameters k is 6.873530005195655 and b is -20.72229111073695\n",
      "Iteration 166, the loss is 4.687805295075366, parameters k is 6.87510174432609 and b is -20.724662652238926\n",
      "Iteration 167, the loss is 4.687745167726242, parameters k is 6.874360835235181 and b is -20.727429450657898\n",
      "Iteration 168, the loss is 4.6876692832629585, parameters k is 6.875932574365615 and b is -20.729800992159873\n",
      "Iteration 169, the loss is 4.687610251381669, parameters k is 6.8751916652747065 and b is -20.732567790578845\n",
      "Iteration 170, the loss is 4.687533271450562, parameters k is 6.876763404405141 and b is -20.73493933208082\n",
      "Iteration 171, the loss is 4.687475335037087, parameters k is 6.876022495314232 and b is -20.73770613049979\n",
      "Iteration 172, the loss is 4.68739725963816, parameters k is 6.8775942344446666 and b is -20.740077672001767\n",
      "Iteration 173, the loss is 4.68734041869251, parameters k is 6.876853325353758 and b is -20.74284447042074\n",
      "Iteration 174, the loss is 4.687261247825756, parameters k is 6.878425064484192 and b is -20.745216011922714\n",
      "Iteration 175, the loss is 4.687205502347937, parameters k is 6.8776841553932835 and b is -20.747982810341686\n",
      "Iteration 176, the loss is 4.687125236013361, parameters k is 6.879255894523718 and b is -20.75035435184366\n",
      "Iteration 177, the loss is 4.687070944848254, parameters k is 6.878514985432809 and b is -20.753121150262633\n",
      "Iteration 178, the loss is 4.687016744227045, parameters k is 6.882325064484193 and b is -20.755097434847613\n",
      "Iteration 179, the loss is 4.686934703029318, parameters k is 6.881584155393284 and b is -20.757864233266584\n",
      "Iteration 180, the loss is 4.686855891861529, parameters k is 6.880843246302375 and b is -20.760631031685556\n",
      "Iteration 181, the loss is 4.686798691216922, parameters k is 6.88241498543281 and b is -20.76300257318753\n",
      "Iteration 182, the loss is 4.686720975516945, parameters k is 6.881674076341901 and b is -20.765769371606503\n",
      "Iteration 183, the loss is 4.686662679404522, parameters k is 6.8832458154723355 and b is -20.76814091310848\n",
      "Iteration 184, the loss is 4.686586059172374, parameters k is 6.882504906381427 and b is -20.77090771152745\n",
      "Iteration 185, the loss is 4.686526667592114, parameters k is 6.884076645511861 and b is -20.773279253029425\n",
      "Iteration 186, the loss is 4.686451142827788, parameters k is 6.883335736420952 and b is -20.776046051448397\n",
      "Iteration 187, the loss is 4.686390655779716, parameters k is 6.884907475551387 and b is -20.778417592950372\n",
      "Iteration 188, the loss is 4.686316226483221, parameters k is 6.884166566460478 and b is -20.781184391369344\n",
      "Iteration 189, the loss is 4.686254643967318, parameters k is 6.8857383055909125 and b is -20.78355593287132\n",
      "Iteration 190, the loss is 4.6861813101386325, parameters k is 6.884997396500004 and b is -20.78632273129029\n",
      "Iteration 191, the loss is 4.686118632154909, parameters k is 6.886569135630438 and b is -20.788694272792267\n",
      "Iteration 192, the loss is 4.686046393794063, parameters k is 6.885828226539529 and b is -20.791461071211238\n",
      "Iteration 193, the loss is 4.68598262034251, parameters k is 6.887399965669964 and b is -20.793832612713214\n",
      "Iteration 194, the loss is 4.6859114774494826, parameters k is 6.886659056579055 and b is -20.796599411132185\n",
      "Iteration 195, the loss is 4.685846608530112, parameters k is 6.8882307957094895 and b is -20.79897095263416\n",
      "Iteration 196, the loss is 4.685776561104908, parameters k is 6.887489886618581 and b is -20.801737751053132\n",
      "Iteration 197, the loss is 4.685710596717715, parameters k is 6.889061625749015 and b is -20.804109292555108\n",
      "Iteration 198, the loss is 4.685641644760335, parameters k is 6.888320716658106 and b is -20.80687609097408\n",
      "Iteration 199, the loss is 4.6855745849053125, parameters k is 6.889892455788541 and b is -20.809247632476055\n"
     ]
    }
   ],
   "source": [
    "#initialized parameters\n",
    "k = random.random() * 200 - 100 # -100 100\n",
    "b = random.random() * 200 - 100 # -100 100\n",
    "learning_rate = 1e-1\n",
    "iteration_num = 200\n",
    "losses = []\n",
    "for i in range(iteration_num):\n",
    "    \n",
    "    price_use_current_parameters = [price(r, k, b) for r in X_rm] # \\hat{y}\n",
    "    \n",
    "    current_loss = loss(y, price_use_current_parameters)\n",
    "    losses.append(current_loss)\n",
    "    print(\"Iteration {}, the loss is {}, parameters k is {} and b is {}\".format(i,current_loss,k,b))\n",
    "    \n",
    "    k_gradient = partial_derivative_k(X_rm, y, price_use_current_parameters)\n",
    "    b_gradient = partial_derivative_b(y, price_use_current_parameters)\n",
    "    \n",
    "    k = k + (-1 * k_gradient) * learning_rate\n",
    "    b = b + (-1 * b_gradient) * learning_rate\n",
    "best_k = k\n",
    "best_b = b"
   ]
  },
  {
   "cell_type": "markdown",
   "metadata": {},
   "source": [
    "**如果loss一直在下降，但是一直没有收敛，可以尝试调高学习率$\\alpha$**"
   ]
  },
  {
   "cell_type": "markdown",
   "metadata": {},
   "source": [
    "##### **（5）做出拟合图像**"
   ]
  },
  {
   "cell_type": "code",
   "execution_count": 278,
   "metadata": {},
   "outputs": [
    {
     "data": {
      "text/plain": [
       "[<matplotlib.lines.Line2D at 0x18304413d88>]"
      ]
     },
     "execution_count": 278,
     "metadata": {},
     "output_type": "execute_result"
    },
    {
     "data": {
      "image/png": "[encoded data removed]",
      "text/plain": [
       "<Figure size 432x288 with 1 Axes>"
      ]
     },
     "metadata": {
      "needs_background": "light"
     },
     "output_type": "display_data"
    }
   ],
   "source": [
    "plt.plot(list(range(iteration_num)),losses)"
   ]
  },
  {
   "cell_type": "code",
   "execution_count": 279,
   "metadata": {},
   "outputs": [
    {
     "data": {
      "text/plain": [
       "<matplotlib.collections.PathCollection at 0x1830448abc8>"
      ]
     },
     "execution_count": 279,
     "metadata": {},
     "output_type": "execute_result"
    },
    {
     "data": {
      "image/png": "[encoded data removed]",
      "text/plain": [
       "<Figure size 432x288 with 1 Axes>"
      ]
     },
     "metadata": {
      "needs_background": "light"
     },
     "output_type": "display_data"
    }
   ],
   "source": [
    "price_use_best_parameters = [price(r, best_k, best_b) for r in X_rm]\n",
    "plt.scatter(X_rm,y)\n",
    "plt.scatter(X_rm,price_use_current_parameters)"
   ]
  },
  {
   "cell_type": "markdown",
   "metadata": {},
   "source": [
    "<评阅点>\n",
    "+ 是否将Loss改成了“绝对值”(3')\n",
    "+ 是否完成了偏导的重新定义(5')\n",
    "+ 新的模型Loss是否能够收敛 (11’)"
   ]
  },
  {
   "cell_type": "markdown",
   "metadata": {},
   "source": []
  }
 ],
 "metadata": {
  "kernelspec": {
   "display_name": "Python 3",
   "language": "python",
   "name": "python3"
  },
  "language_info": {
   "codemirror_mode": {
    "name": "ipython",
    "version": 3
   },
   "file_extension": ".py",
   "mimetype": "text/x-python",
   "name": "python",
   "nbconvert_exporter": "python",
   "pygments_lexer": "ipython3",
   "version": "3.7.4"
  }
 },
 "nbformat": 4,
 "nbformat_minor": 4
}
