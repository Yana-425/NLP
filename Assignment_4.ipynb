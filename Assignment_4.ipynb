{
 "cells": [
  {
   "cell_type": "markdown",
   "metadata": {},
   "source": [
    "# Assignment 4"
   ]
  },
  {
   "cell_type": "markdown",
   "metadata": {},
   "source": [
    "### 1. 复习上课内容以及复现课程代码"
   ]
  },
  {
   "cell_type": "markdown",
   "metadata": {},
   "source": [
    "在本部分，你需要复习上课内容和课程代码后，自己复现课程代码。"
   ]
  },
  {
   "cell_type": "markdown",
   "metadata": {},
   "source": [
    "### 2. 回答一下理论题目"
   ]
  },
  {
   "cell_type": "markdown",
   "metadata": {},
   "source": [
    "#### 1. What does a neuron compute?"
   ]
  },
  {
   "cell_type": "markdown",
   "metadata": {},
   "source": [
    "数据\\*权重，再经过激活函数后的值"
   ]
  },
  {
   "cell_type": "markdown",
   "metadata": {},
   "source": [
    "####  2. Why we use non-linear activation funcitons in neural networks?"
   ]
  },
  {
   "cell_type": "markdown",
   "metadata": {},
   "source": [
    "如果使用线性方程来作激活函数，在这种情况下你每一层输出都是上层输入的线性函数，很容易验证，无论你神经网络有多少层，输出都是输入的线性组合，与没有隐藏层效果相当，这种情况就是最原始的感知机（Perceptron）了。"
   ]
  },
  {
   "cell_type": "markdown",
   "metadata": {},
   "source": [
    "#### 3. What is the 'Logistic Loss' ?"
   ]
  },
  {
   "cell_type": "markdown",
   "metadata": {},
   "source": [
    "$$L(a^{(i)},y^{(i)}) = -y^{(i)} log(a^{(i)})-(1-y^{(i)})log(1-a^{(i)})$$"
   ]
  },
  {
   "cell_type": "markdown",
   "metadata": {},
   "source": [
    "训练集的总loss:\n",
    "$$ J = \\frac{1}{m}\\sum_{i=1}^{m}L(a^{(i)},y^{(i)}) $$"
   ]
  },
  {
   "cell_type": "markdown",
   "metadata": {},
   "source": [
    "#### 4. Assume that you are building a binary classifier for detecting if an image containing cats, which activation functions would you recommen using for the output layer ?\n",
    "\n",
    "A. ReLU    \n",
    "B. Leaky ReLU    \n",
    "C. sigmoid    \n",
    "D. tanh  "
   ]
  },
  {
   "cell_type": "markdown",
   "metadata": {},
   "source": [
    "会选择ReLU  function，因为经过ReLU  function计算后，y的值介于0——1之间，适合于二分类问题；此外，当x趋于正无穷或负无穷时，ReLU  function比sigmoid 的梯度变化要快"
   ]
  },
  {
   "cell_type": "markdown",
   "metadata": {},
   "source": [
    "#### 5. Why we don't use zero initialization for all parameters ?"
   ]
  },
  {
   "cell_type": "markdown",
   "metadata": {},
   "source": [
    "如果$w$全部初始化为0，那么所有的神经元将会有同样的input 和 output"
   ]
  },
  {
   "cell_type": "markdown",
   "metadata": {},
   "source": [
    "#### 6. Can you implement the softmax function using python ? "
   ]
  },
  {
   "cell_type": "code",
   "execution_count": 88,
   "metadata": {},
   "outputs": [],
   "source": [
    "def softmax(x, axis=1):\n",
    "    # 计算每行的最大值\n",
    "    row_max = x.max(axis=axis)\n",
    " \n",
    "    # 每行元素都需要减去对应的最大值，否则求exp(x)会溢出，导致inf情况\n",
    "    row_max=row_max.reshape(-1, 1)\n",
    "    x = x - row_max\n",
    " \n",
    "    # 计算e的指数次幂\n",
    "    x_exp = np.exp(x)\n",
    "    x_sum = np.sum(x_exp, axis=axis, keepdims=True)\n",
    "    s = x_exp / x_sum\n",
    "    return s"
   ]
  },
  {
   "cell_type": "markdown",
   "metadata": {},
   "source": [
    "### 3.实践题"
   ]
  },
  {
   "cell_type": "markdown",
   "metadata": {},
   "source": [
    "#### In this practical part, you will build a simple digits recognizer to check if the digit in the image is larger than 5. This assignmnet will guide you step by step to finish your first small project in this course ."
   ]
  },
  {
   "cell_type": "markdown",
   "metadata": {},
   "source": [
    "#### 1 - Packages  \n",
    "sklearn is a famous package for machine learning.   \n",
    "matplotlib is a common package for vasualization."
   ]
  },
  {
   "cell_type": "code",
   "execution_count": 4,
   "metadata": {},
   "outputs": [],
   "source": [
    "from sklearn import datasets\n",
    "import matplotlib.pyplot as plt\n",
    "from sklearn.model_selection import train_test_split"
   ]
  },
  {
   "cell_type": "markdown",
   "metadata": {},
   "source": [
    "#### 2 - Overvie of the dataset  \n",
    "    - a training set has m_train images labeled as 0 if the digit < 5 or 1 if the digit >= 5\n",
    "    - a test set contains m_test images labels as if the digit < 5 or 1 if the digit >= 5\n",
    "    - eah image if of shape (num_px, num_px ). Thus, each image is square(height=num_px and  width = num_px)"
   ]
  },
  {
   "cell_type": "code",
   "execution_count": 5,
   "metadata": {},
   "outputs": [],
   "source": [
    "# Loading the data \n",
    "digits = datasets.load_digits()"
   ]
  },
  {
   "cell_type": "code",
   "execution_count": 6,
   "metadata": {},
   "outputs": [
    {
     "data": {
      "image/png": "[encoded data removed]",
      "text/plain": [
       "<Figure size 432x288 with 10 Axes>"
      ]
     },
     "metadata": {
      "needs_background": "light"
     },
     "output_type": "display_data"
    }
   ],
   "source": [
    "for i in range(1,11):\n",
    "    plt.subplot(2,5,i) # subplot(2,3,i)是指一个2行3列的图中从左到右从上到下的第i个位置\n",
    "    #plt.imshow(digits.data[i-1].reshape([8,8]),cmap=plt.cm.gray_r)\n",
    "    #plt.text(3,10,str(digits.target[i-1]))\n",
    "    #plt.xticks([])\n",
    "    #plt.yticks([])\n",
    "plt.show()"
   ]
  },
  {
   "cell_type": "code",
   "execution_count": 7,
   "metadata": {},
   "outputs": [
    {
     "data": {
      "image/png": "[encoded data removed]",
      "text/plain": [
       "<Figure size 432x288 with 10 Axes>"
      ]
     },
     "metadata": {
      "needs_background": "light"
     },
     "output_type": "display_data"
    }
   ],
   "source": [
    "for i in range(1,11):\n",
    "    plt.subplot(2,5,i)\n",
    "    plt.imshow(digits.data[i-1].reshape([8,8]),cmap=plt.cm.gray_r)\n",
    "    #plt.text(3,10,str(digits.target[i-1]))\n",
    "    #plt.xticks([])\n",
    "    #plt.yticks([])\n",
    "plt.show()"
   ]
  },
  {
   "cell_type": "code",
   "execution_count": 8,
   "metadata": {},
   "outputs": [
    {
     "data": {
      "image/png": "[encoded data removed]",
      "text/plain": [
       "<Figure size 432x288 with 10 Axes>"
      ]
     },
     "metadata": {},
     "output_type": "display_data"
    }
   ],
   "source": [
    "# Vilizating the data\n",
    "for i in range(1,11):\n",
    "    plt.subplot(2,5,i)\n",
    "    plt.imshow(digits.data[i-1].reshape([8,8]),cmap=plt.cm.gray_r)\n",
    "    plt.text(3,10,str(digits.target[i-1]))\n",
    "    plt.xticks([])\n",
    "    plt.yticks([])\n",
    "plt.show()"
   ]
  },
  {
   "cell_type": "code",
   "execution_count": 9,
   "metadata": {},
   "outputs": [],
   "source": [
    "# Split the data into training set and test set \n",
    "X_train, X_test, y_train, y_test = train_test_split(digits.data, digits.target, test_size=0.25)"
   ]
  },
  {
   "cell_type": "code",
   "execution_count": 10,
   "metadata": {},
   "outputs": [],
   "source": [
    "# reformulate the label. \n",
    "# If the digit is smaller than 5, the label is 0.\n",
    "# If the digit is larger than 5, the label is 1.\n",
    "\n",
    "y_train[y_train < 5 ] = 0\n",
    "y_train[y_train >= 5] = 1\n",
    "y_test[y_test < 5] = 0\n",
    "y_test[y_test >= 5] = 1\n",
    "y_train = y_train.reshape(-1,1)\n",
    "y_test = y_test.reshape(-1,1)"
   ]
  },
  {
   "cell_type": "code",
   "execution_count": 11,
   "metadata": {},
   "outputs": [
    {
     "name": "stdout",
     "output_type": "stream",
     "text": [
      "(1347, 64)\n",
      "(450, 64)\n",
      "(1347, 1)\n",
      "(450, 1)\n"
     ]
    }
   ],
   "source": [
    "print(X_train.shape)\n",
    "print(X_test.shape)\n",
    "print(y_train.shape)\n",
    "print(y_test.shape)"
   ]
  },
  {
   "cell_type": "markdown",
   "metadata": {},
   "source": [
    "#### 3- Architecture of the neural network"
   ]
  },
  {
   "cell_type": "markdown",
   "metadata": {},
   "source": [
    "![title](./networks.png)"
   ]
  },
  {
   "cell_type": "code",
   "execution_count": 12,
   "metadata": {},
   "outputs": [
    {
     "name": "stderr",
     "output_type": "stream",
     "text": [
      "'pwd' 不是内部或外部命令，也不是可运行的程序\n",
      "或批处理文件。\n"
     ]
    }
   ],
   "source": [
    "!pwd"
   ]
  },
  {
   "cell_type": "markdown",
   "metadata": {},
   "source": [
    "##### Mathematical expression of the algorithm:"
   ]
  },
  {
   "cell_type": "markdown",
   "metadata": {},
   "source": [
    "For one example $x^{(i)}$:   \n",
    " $$ z^{(i)} = w^T * x^{(i)} +b $$   \n",
    " $$ y^{(i)} = a^{(i)} = sigmoid(z^{(i)}) = \\frac{1}{1+e^{-z^{(i)}}}$$   \n",
    " $$L(a^{(i)},y^{(i)}) = -y^{(i)} log(a^{(i)})-(1-y^{(i)})log(1-a^{(i)})$$"
   ]
  },
  {
   "cell_type": "markdown",
   "metadata": {},
   "source": [
    "The total cost over all training examples:\n",
    "$$ J = \\frac{1}{m}\\sum_{i=1}^{m}L(a^{(i)},y^{(i)}) $$"
   ]
  },
  {
   "cell_type": "markdown",
   "metadata": {},
   "source": [
    "#### 4 - Building the algorithm"
   ]
  },
  {
   "cell_type": "markdown",
   "metadata": {},
   "source": [
    "##### 4.1- Activation function    \n",
    "###### **Exercise:**\n",
    "**Finish the sigmoid funciton**"
   ]
  },
  {
   "cell_type": "code",
   "execution_count": 13,
   "metadata": {},
   "outputs": [],
   "source": [
    "import math\n",
    "import numpy as np"
   ]
  },
  {
   "cell_type": "code",
   "execution_count": 14,
   "metadata": {},
   "outputs": [],
   "source": [
    "def sigmoid(z):\n",
    "    '''\n",
    "    Compute the sigmoid of z\n",
    "    Arguments: z -- a scalar or numpy array of any size.\n",
    "    \n",
    "    Return:\n",
    "    s -- sigmoid(z)\n",
    "    '''\n",
    "    s = 1 / (1+np.exp(-z))   # 对array使用指数函数要用到numpy的exp()函数\n",
    "    \n",
    "    return s"
   ]
  },
  {
   "cell_type": "code",
   "execution_count": 15,
   "metadata": {},
   "outputs": [
    {
     "name": "stdout",
     "output_type": "stream",
     "text": [
      "sigmoid([0,2]) = [0.5        0.88079708]\n"
     ]
    }
   ],
   "source": [
    "# Test your code \n",
    "# The result should be [0.5 0.88079708]\n",
    "print(\"sigmoid([0,2]) = \" + str(sigmoid(np.array([0,2]))))"
   ]
  },
  {
   "cell_type": "markdown",
   "metadata": {},
   "source": [
    "##### **4.1-Initializaing parameters**\n",
    "###### **Exercise:**\n",
    "**Finishe the initialize_parameters function below**"
   ]
  },
  {
   "cell_type": "code",
   "execution_count": 16,
   "metadata": {},
   "outputs": [],
   "source": [
    "# Random innitialize the parameters\n",
    "\n",
    "def initialize_parameters(dim):\n",
    "    '''\n",
    "    Argument: dim -- size of the w vector\n",
    "    \n",
    "    Returns:\n",
    "    w -- initialized vector of shape (dim,1)\n",
    "    b -- initializaed scalar\n",
    "    '''\n",
    "    \n",
    "    w = np.random.randn(dim, 1)\n",
    "    b = 0\n",
    "    \n",
    "    assert(w.shape == (dim,1)) # assert()：断言函数，如果不满足（），则出error\n",
    "    assert(isinstance(b,float) or isinstance(b,int))\n",
    "    \n",
    "    return w,b"
   ]
  },
  {
   "cell_type": "markdown",
   "metadata": {},
   "source": [
    "#### 4.3-Forward and backward propagation"
   ]
  },
  {
   "cell_type": "markdown",
   "metadata": {},
   "source": [
    "###### Some mathematical expressions\n",
    "Forward Propagation:   \n",
    ". X    \n",
    ". A = $\\sigma(w^T*X+b) = (a^{(1)},a^{(2)},...,a^{(m)}$   \n",
    ". J = $-\\frac{1}{m} \\sum_{i=1}^{m}y^{(i)}log(a^{(i)})+(1-y^{(i)})log(1-a^{(i)})$ "
   ]
  },
  {
   "cell_type": "markdown",
   "metadata": {},
   "source": [
    "$J=-sum(Ylog(A)+(1-Y)log(1-A))/m$"
   ]
  },
  {
   "cell_type": "markdown",
   "metadata": {},
   "source": [
    "Some derivative: \n",
    "$$\\frac{\\partial{J}}{\\partial{w}} = \\frac{1}{m}X*(A-Y)^T$$  \n",
    "$$\\frac{\\partial{J}}{\\partial{w_j}} = \\frac{1}{m}\\sum_{i=1}^m(a^{(i)}-y^{(i)})*x^{(i)}_j$$\n",
    "$$\\frac{\\partial{J}}{\\partial{b}} = \\frac{1}{m}\\sum_{i=1}^m(a^{(i)}-y^{(i)}) $$"
   ]
  },
  {
   "cell_type": "markdown",
   "metadata": {},
   "source": [
    "###### **Exercise:**\n",
    "**Finish the function below:**"
   ]
  },
  {
   "cell_type": "code",
   "execution_count": 84,
   "metadata": {},
   "outputs": [],
   "source": [
    "def propagate(w,b,X,Y):\n",
    "    '''\n",
    "    Implement the cost function and its gradient for the propagation\n",
    "    \n",
    "    Arguments:\n",
    "    w - weights\n",
    "    b - bias\n",
    "    X - data\n",
    "    Y - ground truth\n",
    "    '''\n",
    "    #print(X.shape)\n",
    "    m = X.shape[0]\n",
    "    #print(m)\n",
    "    n = X.shape[1]\n",
    "    A = sigmoid(np.dot(X,w)+b)\n",
    "    #print(Y*np.log(A))\n",
    "    #print((1-Y)*np.log(1-A))\n",
    "    #print(Y*np.log(A)+(1-Y)*np.log(1-A))\n",
    "    #print((Y*np.log(A)+(1-Y)*np.log(1-A)).shape)\n",
    "    print(\"np.sum\",np.sum(Y*np.log(A)+(1-Y)*np.log(1-A)))\n",
    "    cost = -1*sum(Y*np.log(A)+(1-Y)*np.log(1-A)) / m\n",
    "    #print(\"A和Y\",A.shape,Y.shape)\n",
    "    #print((A-Y).shape)\n",
    "    dw = np.zeros((n,1))\n",
    "    for i in range(n):\n",
    "        x_j = X[:,i].reshape(-1,1)\n",
    "        #print(x_j.shape,(A-Y).shape)\n",
    "        #print((x_j*(A-Y)).shape)\n",
    "        dw[i] = sum(x_j*(A-Y))/m\n",
    "    db = np.sum(A-Y)/m\n",
    "    \n",
    "    assert(dw.shape == w.shape)\n",
    "    assert(db.dtype == float)\n",
    "    cost = np.squeeze(cost)\n",
    "    assert(cost.shape == ())\n",
    "    \n",
    "    grads = {'dw':dw,\n",
    "             'db':db}\n",
    "    return grads, cost"
   ]
  },
  {
   "cell_type": "markdown",
   "metadata": {},
   "source": [
    "##### 4.4 -Optimization"
   ]
  },
  {
   "cell_type": "markdown",
   "metadata": {},
   "source": [
    "###### **Exercise:**\n",
    "**Minimizing the cost function using gradient descent.   \n",
    "$$\\theta = \\theta - \\alpha*d\\theta$$ where $\\alpha$ is the learning rate.**"
   ]
  },
  {
   "cell_type": "code",
   "execution_count": 86,
   "metadata": {},
   "outputs": [],
   "source": [
    "def optimize(w, b, X, Y, num_iterations, learning_rate, print_cost=False):\n",
    "    '''\n",
    "    This function optimize w and b by running a gradient descen algorithm\n",
    "    \n",
    "    Arguments:\n",
    "    w - weights\n",
    "    b - bias\n",
    "    X - data\n",
    "    Y - ground truth\n",
    "    num_iterations -- number of iterations of the optimization loop\n",
    "    learning_rate -- learning rate of the gradient descent update rule\n",
    "    print_cost -- True to print the loss every 100 steps\n",
    "    \n",
    "    Returns:\n",
    "    params - dictionary containing the weights w and bias b\n",
    "    grads -- dictionary containing the gradients of the weights and bias with respect to the cost function\n",
    "    costs -- list of all the costs computed during the optimization, this will be used to plot the learning curve.\n",
    "    \n",
    "    '''\n",
    "    x_train = X\n",
    "    y_train = Y\n",
    "    costs = []\n",
    "    \n",
    "    for i in range(num_iterations):\n",
    "        \n",
    "        grads_iteration, cost_iteration = propagate(w,b,x_train,y_train)\n",
    "        print(\"cost：\",cost_iteration)\n",
    "        \n",
    "        dw = grads_iteration['dw']\n",
    "        db = grads_iteration['db']\n",
    "        print(\"dw:\",dw)\n",
    "        w = w-learning_rate*dw\n",
    "        b = b-learning_rate*db\n",
    "        \n",
    "        #if i % 100 == 0:\n",
    "            #costs.append(cost)\n",
    "        costs.append(cost_iteration)\n",
    "        if print_cost and i % 100 == 0:\n",
    "            print (\"Cost after iteration %i: %f\" %(i, cost))\n",
    "    \n",
    "    params = {\"w\":w,\n",
    "              \"b\":b}\n",
    "    \n",
    "    grads = {\"dw\":dw,\n",
    "             \"db\":db}\n",
    "    print(costs[-1])\n",
    "    return params, grads, costs"
   ]
  },
  {
   "cell_type": "markdown",
   "metadata": {},
   "source": [
    "###### **Exercise**\n",
    "**The previous function will output the learned w and b. We are able to use w and b to predict the labels for a dataset X. Implement the predict() function.    \n",
    "Two steps to finish this task:**  \n",
    "1. Calculate $\\hat{Y} = A = \\sigma(w^T*X+b)$   \n",
    "2. Convert the entries of a into 0 (if activation <= 0.5) or 1 (if activation > 0.5), stores the predictions in a vector Y_prediction. If you wish, you can use an if/else statement in a for loop (though there is also a way to vectorize this)."
   ]
  },
  {
   "cell_type": "code",
   "execution_count": 25,
   "metadata": {},
   "outputs": [],
   "source": [
    "def predict(w, b, X):\n",
    "    '''\n",
    "    Predict whether the label is 0 or 1 using learned logistic regression parameters (w, b)\n",
    "    \n",
    "    Arguments:\n",
    "    w -- weights\n",
    "    b -- bias \n",
    "    X -- data \n",
    "    \n",
    "    Returns:\n",
    "    Y_prediction -- a numpy array (vector) containing all predictions (0/1) for the examples in X\n",
    "    '''\n",
    "    m = X.shape[0]\n",
    "    Y_prediction = np.zeros((m,1))\n",
    "    w = w.reshape(-1,1)\n",
    "    \n",
    "    A = sigmoid(np.dot(X,w)+b)  # 矩阵相乘\n",
    "    \n",
    "    for i in range(A.shape[0]):\n",
    "        if A[i]>0.5:\n",
    "            Y_prediction[i] = 1\n",
    "        else:\n",
    "            Y_prediction[i] = 0\n",
    "    \n",
    "    assert(Y_prediction.shape == (m,1))\n",
    "    \n",
    "    return Y_prediction"
   ]
  },
  {
   "cell_type": "markdown",
   "metadata": {},
   "source": [
    "##### 5- Merge all functions into a model"
   ]
  },
  {
   "cell_type": "markdown",
   "metadata": {},
   "source": [
    "Congratulations !! You have finished all the necessary components for constructing a model. Now, Let's take the challenge to merge all the implemented function into one model."
   ]
  },
  {
   "cell_type": "code",
   "execution_count": 27,
   "metadata": {},
   "outputs": [],
   "source": [
    "def calculate_precision(y_hat, Y):\n",
    "    \"\"\"\n",
    "    calculate the percent of y_hat which equals y\n",
    "    Arguments:\n",
    "    y_hat - a numpy array (vector) containing all predictions (0/1)\n",
    "    Y - ground truth\n",
    "    \n",
    "    Returns:\n",
    "    precision - a scaller\n",
    "    \n",
    "    \"\"\"\n",
    "    m = y_hat.shape[0]\n",
    "    num_correct = 0\n",
    "    for i in range(m):\n",
    "        if y_hat[i] == Y[i]:   \n",
    "            num_correct = num_correct + 1\n",
    "    \n",
    "    precision = num_correct / m\n",
    "    \n",
    "    return precision"
   ]
  },
  {
   "cell_type": "code",
   "execution_count": 42,
   "metadata": {},
   "outputs": [],
   "source": [
    "def model(X_train, Y_train, X_test, Y_test, num_iterations, learning_rate,print_cost):\n",
    "    \"\"\"\n",
    "    Build the logistic regression model by calling all the functions you have implemented.\n",
    "    Arguments:\n",
    "    X_train - training set\n",
    "    Y_train - training label\n",
    "    X_test - test set\n",
    "    Y_test - test label\n",
    "    num_iteration - hyperparameter representing the number of iterations to optimize the parameters\n",
    "    learning_rate -- hyperparameter representing the learning rate used in the update rule of optimize()\n",
    "    print_cost -- Set to true to print the cost every 100 iterations\n",
    "    \n",
    "    Returns:\n",
    "    d - dictionary should contain following information w,b,training_accuracy, test_accuracy,cost\n",
    "    eg: d = {\"w\":w,\n",
    "             \"b\":b,\n",
    "             \"training_accuracy\": traing_accuracy,\n",
    "             \"test_accuracy\":test_accuracy,\n",
    "             \"cost\":cost}\n",
    "    \"\"\"\n",
    "    d = {}\n",
    "    \n",
    "    # number of neurals in hidden layer\n",
    "    dim = X_train.shape[1]\n",
    "    # initialize_parameters\n",
    "    initial_w,initial_b = initialize_parameters(dim)\n",
    "    # train model\n",
    "    best_parm ,best_grad, cost_list = optimize(initial_w, initial_b, X_train, Y_train, num_iterations, learning_rate, print_cost=False)\n",
    "    best_w = best_parm['w']\n",
    "    best_b = best_parm['b']\n",
    "    d['w'] = best_w\n",
    "    d['b'] = best_b\n",
    "    d['cost'] = cost_list\n",
    "    # predict\n",
    "    y_hat_train = predict(best_w, best_b, X_train)\n",
    "    y_hat_test = predict(best_w, best_b, X_test)\n",
    "    \n",
    "    # calculate training_accuracy & test_accuracy\n",
    "    d['training_accuracy'] = calculate_precision(y_hat_train, Y_train)\n",
    "    d['test_accuracy'] = calculate_precision(y_hat_test, Y_test)\n",
    "    \n",
    "    return d "
   ]
  },
  {
   "cell_type": "markdown",
   "metadata": {
    "jupyter": {
     "outputs_hidden": true
    }
   },
   "source": [
    "##### **feed model and get result**"
   ]
  },
  {
   "cell_type": "code",
   "execution_count": 52,
   "metadata": {},
   "outputs": [],
   "source": [
    "# feed model and get result\n",
    "learning_rate = math.exp(-2)"
   ]
  },
  {
   "cell_type": "code",
   "execution_count": 87,
   "metadata": {
    "collapsed": true,
    "jupyter": {
     "outputs_hidden": true
    }
   },
   "outputs": [
    {
     "name": "stderr",
     "output_type": "stream",
     "text": [
      "F:\\Anaconda\\lib\\site-packages\\ipykernel_launcher.py:20: RuntimeWarning: divide by zero encountered in log\n",
      "F:\\Anaconda\\lib\\site-packages\\ipykernel_launcher.py:20: RuntimeWarning: invalid value encountered in multiply\n",
      "F:\\Anaconda\\lib\\site-packages\\ipykernel_launcher.py:21: RuntimeWarning: divide by zero encountered in log\n",
      "F:\\Anaconda\\lib\\site-packages\\ipykernel_launcher.py:21: RuntimeWarning: invalid value encountered in multiply\n"
     ]
    },
    {
     "name": "stdout",
     "output_type": "stream",
     "text": [
      "np.sum nan\n",
      "cost： nan\n",
      "dw: [[ 0.00000000e+00]\n",
      " [ 1.50285926e-01]\n",
      " [ 1.95171595e+00]\n",
      " [ 3.74284880e+00]\n",
      " [ 3.16484597e+00]\n",
      " [ 7.59250218e-01]\n",
      " [-7.65054910e-02]\n",
      " [-9.75481812e-03]\n",
      " [ 2.22717149e-03]\n",
      " [ 9.11233366e-01]\n",
      " [ 2.98327826e+00]\n",
      " [ 3.76601455e+00]\n",
      " [ 3.96869683e+00]\n",
      " [ 2.25696850e+00]\n",
      " [ 4.90337427e-02]\n",
      " [ 9.72900814e-03]\n",
      " [ 2.22717149e-03]\n",
      " [ 8.11173105e-01]\n",
      " [ 2.27955474e+00]\n",
      " [ 2.62745435e+00]\n",
      " [ 3.84343348e+00]\n",
      " [ 2.38554792e+00]\n",
      " [ 1.84415849e-01]\n",
      " [ 2.42685327e-02]\n",
      " [ 7.42390497e-04]\n",
      " [ 6.26269625e-01]\n",
      " [ 1.63429820e+00]\n",
      " [ 2.45544825e+00]\n",
      " [ 3.74457972e+00]\n",
      " [ 1.69805278e+00]\n",
      " [ 3.60923428e-01]\n",
      " [ 2.22672028e-03]\n",
      " [ 0.00000000e+00]\n",
      " [ 5.93045082e-01]\n",
      " [ 1.23307264e+00]\n",
      " [ 2.16903622e+00]\n",
      " [ 3.35837376e+00]\n",
      " [ 2.07493936e+00]\n",
      " [ 5.48793412e-01]\n",
      " [ 0.00000000e+00]\n",
      " [ 5.19673306e-03]\n",
      " [ 4.84575931e-01]\n",
      " [ 1.41547086e+00]\n",
      " [ 2.28138426e+00]\n",
      " [ 2.91026031e+00]\n",
      " [ 2.14675242e+00]\n",
      " [ 6.79308796e-01]\n",
      " [-1.34184854e-03]\n",
      " [ 7.42390497e-04]\n",
      " [ 2.85827768e-01]\n",
      " [ 2.16437579e+00]\n",
      " [ 3.16195475e+00]\n",
      " [ 4.01911454e+00]\n",
      " [ 2.74157503e+00]\n",
      " [ 1.21584718e+00]\n",
      " [ 1.32885645e-01]\n",
      " [ 0.00000000e+00]\n",
      " [ 1.28158231e-01]\n",
      " [ 2.02973353e+00]\n",
      " [ 3.96327518e+00]\n",
      " [ 3.98246002e+00]\n",
      " [ 2.23197188e+00]\n",
      " [ 1.10737852e+00]\n",
      " [ 3.54862489e-01]]\n",
      "np.sum -54366.69881057984\n",
      "cost： 40.36132057207113\n",
      "dw: [[ 0.00000000e+00]\n",
      " [-1.45401953e-01]\n",
      " [-2.65524565e+00]\n",
      " [-6.11026525e+00]\n",
      " [-6.25439562e+00]\n",
      " [-3.79156562e+00]\n",
      " [-1.15293350e+00]\n",
      " [-1.21009651e-01]\n",
      " [-4.44794395e-03]\n",
      " [-9.31616010e-01]\n",
      " [-5.69426342e+00]\n",
      " [-5.99745579e+00]\n",
      " [-4.50067514e+00]\n",
      " [-4.25243089e+00]\n",
      " [-1.30890639e+00]\n",
      " [-7.42390479e-02]\n",
      " [-8.51718462e-08]\n",
      " [-1.30243277e+00]\n",
      " [-5.62633875e+00]\n",
      " [-3.12173222e+00]\n",
      " [-2.49456526e+00]\n",
      " [-3.75936877e+00]\n",
      " [-8.67859548e-01]\n",
      " [-1.41054195e-02]\n",
      " [ 2.36194828e-19]\n",
      " [-1.11800516e+00]\n",
      " [-5.20885304e+00]\n",
      " [-5.21138965e+00]\n",
      " [-5.00212205e+00]\n",
      " [-3.92007942e+00]\n",
      " [-1.04157387e+00]\n",
      " [ 1.63096144e-32]\n",
      " [ 0.00000000e+00]\n",
      " [-7.92096293e-01]\n",
      " [-4.32903210e+00]\n",
      " [-5.56103663e+00]\n",
      " [-5.47583887e+00]\n",
      " [-4.56854247e+00]\n",
      " [-1.44914547e+00]\n",
      " [ 0.00000000e+00]\n",
      " [ 1.51725041e-31]\n",
      " [-4.77357089e-01]\n",
      " [-3.43142891e+00]\n",
      " [-3.67778064e+00]\n",
      " [-3.54334159e+00]\n",
      " [-4.07739831e+00]\n",
      " [-1.96925526e+00]\n",
      " [-3.26651819e-02]\n",
      " [ 3.40887566e-35]\n",
      " [-2.80623967e-01]\n",
      " [-3.69739333e+00]\n",
      " [-4.67461336e+00]\n",
      " [-3.56730832e+00]\n",
      " [-3.83689968e+00]\n",
      " [-1.91666580e+00]\n",
      " [-5.42044441e-02]\n",
      " [ 0.00000000e+00]\n",
      " [-1.36144922e-01]\n",
      " [-2.91359455e+00]\n",
      " [-6.22024080e+00]\n",
      " [-5.29815431e+00]\n",
      " [-3.07163227e+00]\n",
      " [-7.33467770e-01]\n",
      " [ 1.50845783e-02]]\n",
      "np.sum nan\n",
      "cost： nan\n",
      "dw: [[0.00000000e+00]\n",
      " [1.72234595e-01]\n",
      " [2.52115813e+00]\n",
      " [5.70314080e+00]\n",
      " [5.55592418e+00]\n",
      " [2.04515972e+00]\n",
      " [2.20038749e-01]\n",
      " [1.63325909e-02]\n",
      " [2.22717149e-03]\n",
      " [1.04380104e+00]\n",
      " [4.61618412e+00]\n",
      " [5.89332371e+00]\n",
      " [5.57048090e+00]\n",
      " [3.89806931e+00]\n",
      " [6.00627940e-01]\n",
      " [3.48923534e-02]\n",
      " [2.22717149e-03]\n",
      " [1.17149220e+00]\n",
      " [4.21009646e+00]\n",
      " [3.76979566e+00]\n",
      " [4.29324421e+00]\n",
      " [3.99606480e+00]\n",
      " [9.11689409e-01]\n",
      " [4.15738679e-02]\n",
      " [7.42390497e-04]\n",
      " [1.24498883e+00]\n",
      " [3.77060117e+00]\n",
      " [3.52412757e+00]\n",
      " [4.63096889e+00]\n",
      " [3.47881268e+00]\n",
      " [1.29779547e+00]\n",
      " [2.22717149e-03]\n",
      " [0.00000000e+00]\n",
      " [1.47403326e+00]\n",
      " [3.34004873e+00]\n",
      " [3.56983569e+00]\n",
      " [4.71192333e+00]\n",
      " [4.06126402e+00]\n",
      " [1.48255374e+00]\n",
      " [0.00000000e+00]\n",
      " [8.90868597e-03]\n",
      " [1.05923105e+00]\n",
      " [3.50860529e+00]\n",
      " [3.51380202e+00]\n",
      " [3.96346255e+00]\n",
      " [4.09131385e+00]\n",
      " [1.47290272e+00]\n",
      " [1.48478099e-03]\n",
      " [7.42390497e-04]\n",
      " [4.14253898e-01]\n",
      " [3.85468545e+00]\n",
      " [4.79181041e+00]\n",
      " [5.62625719e+00]\n",
      " [4.78880672e+00]\n",
      " [1.67354226e+00]\n",
      " [1.32887899e-01]\n",
      " [0.00000000e+00]\n",
      " [1.47735709e-01]\n",
      " [2.65553081e+00]\n",
      " [5.87463302e+00]\n",
      " [6.38433497e+00]\n",
      " [3.54275534e+00]\n",
      " [1.25141320e+00]\n",
      " [3.54862658e-01]]\n",
      "nan\n"
     ]
    },
    {
     "data": {
      "text/plain": [
       "0.4884929472902747"
      ]
     },
     "execution_count": 87,
     "metadata": {},
     "output_type": "execute_result"
    }
   ],
   "source": [
    "result = model(X_train, y_train, X_test, y_test, 3, learning_rate,'False')\n",
    "result[\"training_accuracy\"]"
   ]
  },
  {
   "cell_type": "code",
   "execution_count": 71,
   "metadata": {},
   "outputs": [
    {
     "data": {
      "text/plain": [
       "0.4622222222222222"
      ]
     },
     "execution_count": 71,
     "metadata": {},
     "output_type": "execute_result"
    }
   ],
   "source": [
    "result[\"test_accuracy\"]"
   ]
  },
  {
   "cell_type": "code",
   "execution_count": 50,
   "metadata": {},
   "outputs": [
    {
     "data": {
      "text/plain": [
       "[array(nan)]"
      ]
     },
     "execution_count": 50,
     "metadata": {},
     "output_type": "execute_result"
    }
   ],
   "source": [
    "result[\"cost\"]"
   ]
  },
  {
   "cell_type": "markdown",
   "metadata": {},
   "source": [
    "### 4.选做题"
   ]
  },
  {
   "cell_type": "markdown",
   "metadata": {},
   "source": [
    "Congratulations on building your first logistic regression model. It is your time to analyze it further."
   ]
  },
  {
   "cell_type": "markdown",
   "metadata": {},
   "source": [
    "##### 4.1 Observe the effect of learning rate on the leraning process.   \n",
    "Hits: plot the learning curve with different learning rate"
   ]
  },
  {
   "cell_type": "markdown",
   "metadata": {},
   "source": [
    "##### 4.2 Observe the effect of iteration_num on the test accuracy."
   ]
  },
  {
   "cell_type": "markdown",
   "metadata": {},
   "source": [
    "# Challenge ! ! !\n",
    "\n",
    "The original data have images labeled 0,1,2,3,4,5,6,7,8,9. In our logistic model, we only detect if the digit in the image is larger or smaller than 5. Now, Let's go for a more challenging problem. Try to use softmax function to build a model to recognize which digit (0,1,2,3,4,5,6,7,8,9) is in the image."
   ]
  },
  {
   "cell_type": "markdown",
   "metadata": {},
   "source": [
    "# Congratulations ! You have completed assigment 4. "
   ]
  },
  {
   "cell_type": "code",
   "execution_count": null,
   "metadata": {},
   "outputs": [],
   "source": []
  }
 ],
 "metadata": {
  "kernelspec": {
   "display_name": "Python 3",
   "language": "python",
   "name": "python3"
  },
  "language_info": {
   "codemirror_mode": {
    "name": "ipython",
    "version": 3
   },
   "file_extension": ".py",
   "mimetype": "text/x-python",
   "name": "python",
   "nbconvert_exporter": "python",
   "pygments_lexer": "ipython3",
   "version": "3.7.4"
  }
 },
 "nbformat": 4,
 "nbformat_minor": 4
}
